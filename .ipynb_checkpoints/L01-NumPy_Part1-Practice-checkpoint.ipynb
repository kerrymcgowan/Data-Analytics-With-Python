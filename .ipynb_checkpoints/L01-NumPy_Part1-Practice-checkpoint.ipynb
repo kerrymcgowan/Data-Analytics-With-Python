{
 "cells": [
  {
   "cell_type": "markdown",
   "metadata": {},
   "source": [
    "# Lesson 1 Practice: NumPy Part 1\n",
    "Use this notebook to follow along with the lesson in the corresponding lesson notebook: [L01-Numpy_Part1-Lesson.ipynb](./L01-Numpy_Part1-Lesson.ipynb).  \n",
    "\n"
   ]
  },
  {
   "cell_type": "markdown",
   "metadata": {},
   "source": [
    "## Instructions\n",
    "Follow along with the teaching material in the lesson. Throughout the tutorial sections labeled as \"Tasks\" are interspersed and indicated with the icon: ![Task](http://icons.iconarchive.com/icons/sbstnblnd/plateau/16/Apps-gnome-info-icon.png). You should follow the instructions provided in these sections by performing them in the practice notebook.  When the tutorial is completed you can turn in the final practice notebook. For each task, use the cell below it to write and test your code.  You may add additional cells for any task as needed or desired.  "
   ]
  },
  {
   "cell_type": "markdown",
   "metadata": {},
   "source": [
    "## Task 1a: Setup\n",
    "\n",
    "In the practice notebook, import the following packages:\n",
    "+ `numpy` as `np`"
   ]
  },
  {
   "cell_type": "code",
   "execution_count": 1,
   "metadata": {},
   "outputs": [],
   "source": [
    "import numpy as np"
   ]
  },
  {
   "cell_type": "markdown",
   "metadata": {},
   "source": [
    "## Task 2a: Creating Arrays\n",
    "\n",
    "In the practice notebook, perform the following.  \n",
    "- Create a 1-dimensional numpy array and print it.\n",
    "- Create a 2-dimensional numpy array and print it.\n",
    "- Create a 3-dimensional numpy array and print it."
   ]
  },
  {
   "cell_type": "code",
   "execution_count": 3,
   "metadata": {},
   "outputs": [],
   "source": [
    "# 1-dimensional array\n",
    "my_1d_array = np.array([1,2,3,4,5])\n",
    "\n",
    "# 2-dimensional array\n",
    "my_2d_array = np.array([[1,2,3,4,5], [6,7,8,9,10]])\n",
    "\n",
    "# 3-dimensional array\n",
    "my_3d_array = np.array([[[1,2,3,4,5], [6,7,8,9,10]], [[11,12,13,14,15], [16,17,18,19,20]]])"
   ]
  },
  {
   "cell_type": "markdown",
   "metadata": {},
   "source": [
    "## Task 3a: Accessing Array Attributes\n",
    "\n",
    "In the practice notebook, perform the following.\n",
    "\n",
    "- Create a NumPy array.\n",
    "- Write code that prints these attributes (one per line): `ndim`, `shape`, `size`, `dtype`, `itemsize`, `data`, `nbytes`.\n",
    "- Add a comment line, before each line describing what value the attribute returns. \n"
   ]
  },
  {
   "cell_type": "code",
   "execution_count": 5,
   "metadata": {},
   "outputs": [
    {
     "name": "stdout",
     "output_type": "stream",
     "text": [
      "2\n",
      "(2, 4)\n",
      "8\n",
      "int64\n",
      "8\n",
      "<memory at 0x7fceed8c8990>\n",
      "64\n"
     ]
    }
   ],
   "source": [
    "# make a NumPy array\n",
    "test_array = np.array([[1,3,5,7], [2,4,6,8]])\n",
    "\n",
    "# Number of array dimensions\n",
    "print(test_array.ndim)\n",
    "\n",
    "# Tuple of array dimensions\n",
    "print(test_array.shape)\n",
    "\n",
    "# Number of elements in the array\n",
    "print(test_array.size)\n",
    "\n",
    "# Data-type of the array's elements\n",
    "print(test_array.dtype)\n",
    "\n",
    "# Length of one array element in bytes\n",
    "print(test_array.itemsize)\n",
    "\n",
    "# Python buffer object pointing to the start of the array's data\n",
    "print(test_array.data)\n",
    "\n",
    "# Total bytes consumed by the elements of the array\n",
    "print(test_array.nbytes)"
   ]
  },
  {
   "cell_type": "markdown",
   "metadata": {},
   "source": [
    "## Task 4a: Initializing Arrays\n",
    "\n",
    "In the practice notebook, perform the following.\n",
    "\n",
    "+ Create an initialized array by using these functions:  `ones`, `zeros`, `empty`, `full`, `arange`, `linspace` and `random.random`. Be sure to follow each array creation with a call to `print()` to display your newly created arrays. \n",
    "+ Add a comment above each function call describing what is being done.  "
   ]
  },
  {
   "cell_type": "code",
   "execution_count": 12,
   "metadata": {},
   "outputs": [
    {
     "name": "stdout",
     "output_type": "stream",
     "text": [
      "[[1. 1. 1.]\n",
      " [1. 1. 1.]]\n",
      "[[0. 0. 0. 0. 0.]\n",
      " [0. 0. 0. 0. 0.]\n",
      " [0. 0. 0. 0. 0.]]\n",
      "[[ 3.  6.  9. 12.]]\n",
      "[[8 8]\n",
      " [8 8]]\n",
      "[ 0  2  4  6  8 10 12 14 16 18]\n",
      "[ 0.  3.  6.  9. 12.]\n",
      "[[0.8367499  0.3417631  0.01632206]]\n"
     ]
    }
   ],
   "source": [
    "# An array of ones with 2 rows and 3 columns\n",
    "print(np.ones((2,3)))\n",
    "\n",
    "# An array of zeros with 3 rows and 5 columns\n",
    "print(np.zeros((3, 5)))\n",
    "\n",
    "# An empty array with 1 row and 4 columns\n",
    "print(np.empty((1,4)))\n",
    "\n",
    "# An array with 2 rows and 2 columns filled with 8s\n",
    "print(np.full((2,2), fill_value = 8))\n",
    "\n",
    "# An array of multiples of 2 spanning from 0 to 18\n",
    "print(np.arange(0, 20, 2))\n",
    "\n",
    "# An array of 5 evenly spaced numbers spanning from 0 to 12\n",
    "print(np.linspace(0, 12, 5))\n",
    "\n",
    "# An array of random numbers between 0 and 1 with 1 row and 3 columns\n",
    "print(np.random.random((1,3)))"
   ]
  },
  {
   "cell_type": "markdown",
   "metadata": {},
   "source": [
    "## Task 5a:  Broadcasting Arrays\n",
    "\n",
    "In the practice notebook, perform the following.\n",
    "\n",
    "+ Create two arrays of differing sizes but compatible with broadcasting.\n",
    "+ Perform addition, multiplication and subtraction.\n",
    "+ Create two additional arrays of differing size that do not meet the rules for broadcasting and try a mathematical operation.  "
   ]
  },
  {
   "cell_type": "code",
   "execution_count": 14,
   "metadata": {},
   "outputs": [
    {
     "name": "stdout",
     "output_type": "stream",
     "text": [
      "[[[1.03315849 1.94448791 1.74389018 1.05671504 1.60656762]\n",
      "  [1.32703502 1.5815368  1.68673364 1.9846911  1.91467117]]\n",
      "\n",
      " [[1.03315849 1.94448791 1.74389018 1.05671504 1.60656762]\n",
      "  [1.32703502 1.5815368  1.68673364 1.9846911  1.91467117]]\n",
      "\n",
      " [[1.03315849 1.94448791 1.74389018 1.05671504 1.60656762]\n",
      "  [1.32703502 1.5815368  1.68673364 1.9846911  1.91467117]]]\n",
      "[[[0.03315849 0.94448791 0.74389018 0.05671504 0.60656762]\n",
      "  [0.32703502 0.5815368  0.68673364 0.9846911  0.91467117]]\n",
      "\n",
      " [[0.03315849 0.94448791 0.74389018 0.05671504 0.60656762]\n",
      "  [0.32703502 0.5815368  0.68673364 0.9846911  0.91467117]]\n",
      "\n",
      " [[0.03315849 0.94448791 0.74389018 0.05671504 0.60656762]\n",
      "  [0.32703502 0.5815368  0.68673364 0.9846911  0.91467117]]]\n",
      "[[[-0.96684151 -0.05551209 -0.25610982 -0.94328496 -0.39343238]\n",
      "  [-0.67296498 -0.4184632  -0.31326636 -0.0153089  -0.08532883]]\n",
      "\n",
      " [[-0.96684151 -0.05551209 -0.25610982 -0.94328496 -0.39343238]\n",
      "  [-0.67296498 -0.4184632  -0.31326636 -0.0153089  -0.08532883]]\n",
      "\n",
      " [[-0.96684151 -0.05551209 -0.25610982 -0.94328496 -0.39343238]\n",
      "  [-0.67296498 -0.4184632  -0.31326636 -0.0153089  -0.08532883]]]\n"
     ]
    },
    {
     "ename": "ValueError",
     "evalue": "operands could not be broadcast together with shapes (2,3) (4,6,7) ",
     "output_type": "error",
     "traceback": [
      "\u001b[0;31m---------------------------------------------------------------------------\u001b[0m",
      "\u001b[0;31mValueError\u001b[0m                                Traceback (most recent call last)",
      "\u001b[0;32m<ipython-input-14-87ac934131bf>\u001b[0m in \u001b[0;36m<module>\u001b[0;34m\u001b[0m\n\u001b[1;32m     20\u001b[0m \u001b[0;34m\u001b[0m\u001b[0m\n\u001b[1;32m     21\u001b[0m \u001b[0;31m# Addition\u001b[0m\u001b[0;34m\u001b[0m\u001b[0;34m\u001b[0m\u001b[0;34m\u001b[0m\u001b[0m\n\u001b[0;32m---> 22\u001b[0;31m \u001b[0mc_plus_d\u001b[0m \u001b[0;34m=\u001b[0m \u001b[0marray_c\u001b[0m \u001b[0;34m+\u001b[0m \u001b[0marray_d\u001b[0m\u001b[0;34m\u001b[0m\u001b[0;34m\u001b[0m\u001b[0m\n\u001b[0m\u001b[1;32m     23\u001b[0m \u001b[0mprint\u001b[0m\u001b[0;34m(\u001b[0m\u001b[0mc_plus_d\u001b[0m\u001b[0;34m)\u001b[0m\u001b[0;34m\u001b[0m\u001b[0;34m\u001b[0m\u001b[0m\n",
      "\u001b[0;31mValueError\u001b[0m: operands could not be broadcast together with shapes (2,3) (4,6,7) "
     ]
    }
   ],
   "source": [
    "# 2 arrays of different sizes but compatible with broadcasting\n",
    "array_a = np.random.random((2,5))\n",
    "array_b = np.ones((3,1,5))\n",
    "\n",
    "# Addition\n",
    "a_plus_b = array_a + array_b\n",
    "print(a_plus_b)\n",
    "\n",
    "# Multiplication\n",
    "a_times_b = array_a * array_b\n",
    "print(a_times_b)\n",
    "\n",
    "# Subtraction\n",
    "a_minus_b = array_a - array_b\n",
    "print(a_minus_b)\n",
    "\n",
    "#2 arrays of differing size that do not meet the rules for broadcasting\n",
    "array_c = np.random.random((2,3))\n",
    "array_d = np.random.random((4,6,7))\n",
    "\n",
    "# Addition\n",
    "c_plus_d = array_c + array_d\n",
    "print(c_plus_d)"
   ]
  },
  {
   "cell_type": "markdown",
   "metadata": {},
   "source": [
    "## Task 6a: Math/Stats Aggregate Functions\n",
    "\n",
    "In the practice notebook, perform the following.\n",
    "\n",
    "+ Create three to five arrays\n",
    "+ Experiment with each of the aggregation functions: `sum`, `minimum`, `maximum`, `cumsum`, `mean`, `np.corrcoef`, `np.std`, `np.var`. \n",
    "+ For each function call, add a comment line above it that describes what it does.  \n",
    "```\n"
   ]
  },
  {
   "cell_type": "code",
   "execution_count": 27,
   "metadata": {},
   "outputs": [
    {
     "name": "stdout",
     "output_type": "stream",
     "text": [
      "4.92031927069066\n",
      "[[0. 1. 1. 1. 1. 1.]\n",
      " [0. 1. 1. 1. 1. 1.]\n",
      " [0. 1. 1. 1. 1. 1.]\n",
      " [0. 1. 1. 1. 1. 1.]\n",
      " [0. 1. 1. 1. 1. 1.]]\n",
      "[[1. 1. 2. 3. 4. 5.]\n",
      " [1. 1. 2. 3. 4. 5.]\n",
      " [1. 1. 2. 3. 4. 5.]\n",
      " [1. 1. 2. 3. 4. 5.]\n",
      " [1. 1. 2. 3. 4. 5.]]\n",
      "[ 1.  2.  3.  4.  5.  6.  7.  8.  9. 10. 11. 12. 13. 14. 15. 16. 17. 18.\n",
      " 19. 20. 21. 22. 23. 24. 25. 26. 27. 28. 29. 30.]\n",
      "0.6150399088363325\n",
      "[[1.         0.44233565]\n",
      " [0.44233565 1.        ]]\n",
      "1.707825127659933\n",
      "0.0\n"
     ]
    }
   ],
   "source": [
    "# Create arrays\n",
    "array_1 = np.random.random((2,4))\n",
    "array_2 = np.ones((5,6))\n",
    "array_3 = np.arange(6)\n",
    "\n",
    "# Apply aggregation functions\n",
    "print(np.sum(array_1))\n",
    "\n",
    "print(np.minimum(array_2, array_3))\n",
    "\n",
    "print(np.maximum(array_2, array_3))\n",
    "\n",
    "print(np.cumsum(array_2))\n",
    "\n",
    "print(np.mean(array_1))\n",
    "\n",
    "print(np.corrcoef(array_1))\n",
    "\n",
    "print(np.std(array_3))\n",
    "\n",
    "print(np.var(array_2))"
   ]
  },
  {
   "cell_type": "markdown",
   "metadata": {},
   "source": [
    "## Task 6b: Logical Aggregate Functions\n",
    "\n",
    "In the practice notebook, perform the following.\n",
    "\n",
    "+ Create two arrays containing boolean values.\n",
    "+ Experiment with each of the aggregation functions: `logical_and`, `logical_or`, `logical_not`. \n",
    "+ For each function call, add a comment line above it that describes what it does.  \n",
    "```"
   ]
  },
  {
   "cell_type": "code",
   "execution_count": 29,
   "metadata": {},
   "outputs": [
    {
     "name": "stdout",
     "output_type": "stream",
     "text": [
      "[False False False  True]\n",
      "[ True False  True  True]\n"
     ]
    }
   ],
   "source": [
    "# Arrays containing boolean values\n",
    "e = [True, False, False, True]\n",
    "f = [False, False, True, True]\n",
    "\n",
    "# Apply aggregation functions\n",
    "# Compute element-wise truth value of 2 arrays using AND\n",
    "print(np.logical_and(e, f))\n",
    "# Compute element-wise truth value of 2 arrays using OR\n",
    "print(np.logical_or(e, f))"
   ]
  }
 ],
 "metadata": {
  "kernelspec": {
   "display_name": "Python 3",
   "language": "python",
   "name": "python3"
  },
  "language_info": {
   "codemirror_mode": {
    "name": "ipython",
    "version": 3
   },
   "file_extension": ".py",
   "mimetype": "text/x-python",
   "name": "python",
   "nbconvert_exporter": "python",
   "pygments_lexer": "ipython3",
   "version": "3.7.1"
  }
 },
 "nbformat": 4,
 "nbformat_minor": 4
}

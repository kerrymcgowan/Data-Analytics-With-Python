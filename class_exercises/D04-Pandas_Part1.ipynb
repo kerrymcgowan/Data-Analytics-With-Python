{
 "cells": [
  {
   "cell_type": "markdown",
   "metadata": {},
   "source": [
    "# Lesson 3 Class Exercises: Pandas Part 1\n",
    "\n",
    "With these class exercises we learn a few new things.  When new knowledge is introduced you'll see the icon shown on the right: \n",
    "<span style=\"float:right; margin-left:10px; clear:both;\">![Task](../media/new_knowledge.png)</span>"
   ]
  },
  {
   "cell_type": "markdown",
   "metadata": {},
   "source": [
    "## Reminder\n",
    "The first checkin-in of the project is due next Tueday.  After today, you should have everything you need to know to accomplish that first part. "
   ]
  },
  {
   "cell_type": "markdown",
   "metadata": {},
   "source": [
    "## Get Started\n",
    "Import the Numpy and Pandas packages"
   ]
  },
  {
   "cell_type": "code",
   "execution_count": 1,
   "metadata": {},
   "outputs": [],
   "source": [
    "import numpy as np\n",
    "import pandas as pd"
   ]
  },
  {
   "cell_type": "markdown",
   "metadata": {},
   "source": [
    "## Exercise 1: Import Iris Data\n",
    "Import the Iris dataset made available to you in the last class period for the Numpy part2 exercises. Save it to a variable naemd `iris`. Print the first 5 rows and the dimensions to ensure it was read in properly."
   ]
  },
  {
   "cell_type": "code",
   "execution_count": 3,
   "metadata": {},
   "outputs": [
    {
     "data": {
      "text/html": [
       "<div>\n",
       "<style scoped>\n",
       "    .dataframe tbody tr th:only-of-type {\n",
       "        vertical-align: middle;\n",
       "    }\n",
       "\n",
       "    .dataframe tbody tr th {\n",
       "        vertical-align: top;\n",
       "    }\n",
       "\n",
       "    .dataframe thead th {\n",
       "        text-align: right;\n",
       "    }\n",
       "</style>\n",
       "<table border=\"1\" class=\"dataframe\">\n",
       "  <thead>\n",
       "    <tr style=\"text-align: right;\">\n",
       "      <th></th>\n",
       "      <th>sepal_length</th>\n",
       "      <th>sepal_width</th>\n",
       "      <th>petal_length</th>\n",
       "      <th>petal_width</th>\n",
       "      <th>species</th>\n",
       "    </tr>\n",
       "  </thead>\n",
       "  <tbody>\n",
       "    <tr>\n",
       "      <th>0</th>\n",
       "      <td>5.1</td>\n",
       "      <td>3.5</td>\n",
       "      <td>1.4</td>\n",
       "      <td>0.2</td>\n",
       "      <td>setosa</td>\n",
       "    </tr>\n",
       "    <tr>\n",
       "      <th>1</th>\n",
       "      <td>4.9</td>\n",
       "      <td>3.0</td>\n",
       "      <td>1.4</td>\n",
       "      <td>0.2</td>\n",
       "      <td>setosa</td>\n",
       "    </tr>\n",
       "    <tr>\n",
       "      <th>2</th>\n",
       "      <td>4.7</td>\n",
       "      <td>3.2</td>\n",
       "      <td>1.3</td>\n",
       "      <td>0.2</td>\n",
       "      <td>setosa</td>\n",
       "    </tr>\n",
       "    <tr>\n",
       "      <th>3</th>\n",
       "      <td>4.6</td>\n",
       "      <td>3.1</td>\n",
       "      <td>1.5</td>\n",
       "      <td>0.2</td>\n",
       "      <td>setosa</td>\n",
       "    </tr>\n",
       "    <tr>\n",
       "      <th>4</th>\n",
       "      <td>5.0</td>\n",
       "      <td>3.6</td>\n",
       "      <td>1.4</td>\n",
       "      <td>0.2</td>\n",
       "      <td>setosa</td>\n",
       "    </tr>\n",
       "  </tbody>\n",
       "</table>\n",
       "</div>"
      ],
      "text/plain": [
       "   sepal_length  sepal_width  petal_length  petal_width species\n",
       "0           5.1          3.5           1.4          0.2  setosa\n",
       "1           4.9          3.0           1.4          0.2  setosa\n",
       "2           4.7          3.2           1.3          0.2  setosa\n",
       "3           4.6          3.1           1.5          0.2  setosa\n",
       "4           5.0          3.6           1.4          0.2  setosa"
      ]
     },
     "execution_count": 3,
     "metadata": {},
     "output_type": "execute_result"
    }
   ],
   "source": [
    "iris = pd.read_csv('../data/iris.csv')\n",
    "iris.head()"
   ]
  },
  {
   "cell_type": "markdown",
   "metadata": {},
   "source": [
    "Notice how much easier this was to import compared to the Numpy `genfromtxt`. We did not have to skip the headers, we did not have to specify the data type and we can have mixed data types in the same matrix."
   ]
  },
  {
   "cell_type": "markdown",
   "metadata": {},
   "source": [
    "## Exercise 2: Import Legislators Data\n",
    "For portions of this notebook we will use a public dataset that contains all of the current legistators of the United States Congress. This dataset can be found [here](https://github.com/unitedstates/congress-legislators).  \n",
    "\n",
    "Import the data directly from this URL:  https://theunitedstates.io/congress-legislators/legislators-current.csv\n",
    "\n",
    "Save the data in a variable named `legistators`. Print the first 5 lines, and the dimensions."
   ]
  },
  {
   "cell_type": "code",
   "execution_count": 76,
   "metadata": {},
   "outputs": [
    {
     "data": {
      "text/html": [
       "<div>\n",
       "<style scoped>\n",
       "    .dataframe tbody tr th:only-of-type {\n",
       "        vertical-align: middle;\n",
       "    }\n",
       "\n",
       "    .dataframe tbody tr th {\n",
       "        vertical-align: top;\n",
       "    }\n",
       "\n",
       "    .dataframe thead th {\n",
       "        text-align: right;\n",
       "    }\n",
       "</style>\n",
       "<table border=\"1\" class=\"dataframe\">\n",
       "  <thead>\n",
       "    <tr style=\"text-align: right;\">\n",
       "      <th></th>\n",
       "      <th>last_name</th>\n",
       "      <th>first_name</th>\n",
       "      <th>middle_name</th>\n",
       "      <th>suffix</th>\n",
       "      <th>nickname</th>\n",
       "      <th>full_name</th>\n",
       "      <th>birthday</th>\n",
       "      <th>gender</th>\n",
       "      <th>type</th>\n",
       "      <th>state</th>\n",
       "      <th>...</th>\n",
       "      <th>opensecrets_id</th>\n",
       "      <th>lis_id</th>\n",
       "      <th>fec_ids</th>\n",
       "      <th>cspan_id</th>\n",
       "      <th>govtrack_id</th>\n",
       "      <th>votesmart_id</th>\n",
       "      <th>ballotpedia_id</th>\n",
       "      <th>washington_post_id</th>\n",
       "      <th>icpsr_id</th>\n",
       "      <th>wikipedia_id</th>\n",
       "    </tr>\n",
       "  </thead>\n",
       "  <tbody>\n",
       "    <tr>\n",
       "      <th>0</th>\n",
       "      <td>Brown</td>\n",
       "      <td>Sherrod</td>\n",
       "      <td>NaN</td>\n",
       "      <td>NaN</td>\n",
       "      <td>NaN</td>\n",
       "      <td>Sherrod Brown</td>\n",
       "      <td>1952-11-09</td>\n",
       "      <td>M</td>\n",
       "      <td>sen</td>\n",
       "      <td>OH</td>\n",
       "      <td>...</td>\n",
       "      <td>N00003535</td>\n",
       "      <td>S307</td>\n",
       "      <td>H2OH13033,S6OH00163</td>\n",
       "      <td>5051.0</td>\n",
       "      <td>400050</td>\n",
       "      <td>27018.0</td>\n",
       "      <td>Sherrod Brown</td>\n",
       "      <td>NaN</td>\n",
       "      <td>29389.0</td>\n",
       "      <td>Sherrod Brown</td>\n",
       "    </tr>\n",
       "    <tr>\n",
       "      <th>1</th>\n",
       "      <td>Cantwell</td>\n",
       "      <td>Maria</td>\n",
       "      <td>NaN</td>\n",
       "      <td>NaN</td>\n",
       "      <td>NaN</td>\n",
       "      <td>Maria Cantwell</td>\n",
       "      <td>1958-10-13</td>\n",
       "      <td>F</td>\n",
       "      <td>sen</td>\n",
       "      <td>WA</td>\n",
       "      <td>...</td>\n",
       "      <td>N00007836</td>\n",
       "      <td>S275</td>\n",
       "      <td>S8WA00194,H2WA01054</td>\n",
       "      <td>26137.0</td>\n",
       "      <td>300018</td>\n",
       "      <td>27122.0</td>\n",
       "      <td>Maria Cantwell</td>\n",
       "      <td>NaN</td>\n",
       "      <td>39310.0</td>\n",
       "      <td>Maria Cantwell</td>\n",
       "    </tr>\n",
       "    <tr>\n",
       "      <th>2</th>\n",
       "      <td>Cardin</td>\n",
       "      <td>Benjamin</td>\n",
       "      <td>L.</td>\n",
       "      <td>NaN</td>\n",
       "      <td>NaN</td>\n",
       "      <td>Benjamin L. Cardin</td>\n",
       "      <td>1943-10-05</td>\n",
       "      <td>M</td>\n",
       "      <td>sen</td>\n",
       "      <td>MD</td>\n",
       "      <td>...</td>\n",
       "      <td>N00001955</td>\n",
       "      <td>S308</td>\n",
       "      <td>H6MD03177,S6MD03177</td>\n",
       "      <td>4004.0</td>\n",
       "      <td>400064</td>\n",
       "      <td>26888.0</td>\n",
       "      <td>Ben Cardin</td>\n",
       "      <td>NaN</td>\n",
       "      <td>15408.0</td>\n",
       "      <td>Ben Cardin</td>\n",
       "    </tr>\n",
       "    <tr>\n",
       "      <th>3</th>\n",
       "      <td>Carper</td>\n",
       "      <td>Thomas</td>\n",
       "      <td>Richard</td>\n",
       "      <td>NaN</td>\n",
       "      <td>NaN</td>\n",
       "      <td>Thomas R. Carper</td>\n",
       "      <td>1947-01-23</td>\n",
       "      <td>M</td>\n",
       "      <td>sen</td>\n",
       "      <td>DE</td>\n",
       "      <td>...</td>\n",
       "      <td>N00012508</td>\n",
       "      <td>S277</td>\n",
       "      <td>S8DE00079</td>\n",
       "      <td>663.0</td>\n",
       "      <td>300019</td>\n",
       "      <td>22421.0</td>\n",
       "      <td>Tom Carper</td>\n",
       "      <td>NaN</td>\n",
       "      <td>15015.0</td>\n",
       "      <td>Tom Carper</td>\n",
       "    </tr>\n",
       "    <tr>\n",
       "      <th>4</th>\n",
       "      <td>Casey</td>\n",
       "      <td>Robert</td>\n",
       "      <td>P.</td>\n",
       "      <td>Jr.</td>\n",
       "      <td>Bob</td>\n",
       "      <td>Robert P. Casey, Jr.</td>\n",
       "      <td>1960-04-13</td>\n",
       "      <td>M</td>\n",
       "      <td>sen</td>\n",
       "      <td>PA</td>\n",
       "      <td>...</td>\n",
       "      <td>N00027503</td>\n",
       "      <td>S309</td>\n",
       "      <td>S6PA00217</td>\n",
       "      <td>47036.0</td>\n",
       "      <td>412246</td>\n",
       "      <td>2541.0</td>\n",
       "      <td>Bob Casey, Jr.</td>\n",
       "      <td>NaN</td>\n",
       "      <td>40703.0</td>\n",
       "      <td>Bob Casey Jr.</td>\n",
       "    </tr>\n",
       "  </tbody>\n",
       "</table>\n",
       "<p>5 rows × 34 columns</p>\n",
       "</div>"
      ],
      "text/plain": [
       "  last_name first_name middle_name suffix nickname             full_name  \\\n",
       "0     Brown    Sherrod         NaN    NaN      NaN         Sherrod Brown   \n",
       "1  Cantwell      Maria         NaN    NaN      NaN        Maria Cantwell   \n",
       "2    Cardin   Benjamin          L.    NaN      NaN    Benjamin L. Cardin   \n",
       "3    Carper     Thomas     Richard    NaN      NaN      Thomas R. Carper   \n",
       "4     Casey     Robert          P.    Jr.      Bob  Robert P. Casey, Jr.   \n",
       "\n",
       "     birthday gender type state       ...        opensecrets_id  lis_id  \\\n",
       "0  1952-11-09      M  sen    OH       ...             N00003535    S307   \n",
       "1  1958-10-13      F  sen    WA       ...             N00007836    S275   \n",
       "2  1943-10-05      M  sen    MD       ...             N00001955    S308   \n",
       "3  1947-01-23      M  sen    DE       ...             N00012508    S277   \n",
       "4  1960-04-13      M  sen    PA       ...             N00027503    S309   \n",
       "\n",
       "               fec_ids cspan_id govtrack_id votesmart_id  ballotpedia_id  \\\n",
       "0  H2OH13033,S6OH00163   5051.0      400050      27018.0   Sherrod Brown   \n",
       "1  S8WA00194,H2WA01054  26137.0      300018      27122.0  Maria Cantwell   \n",
       "2  H6MD03177,S6MD03177   4004.0      400064      26888.0      Ben Cardin   \n",
       "3            S8DE00079    663.0      300019      22421.0      Tom Carper   \n",
       "4            S6PA00217  47036.0      412246       2541.0  Bob Casey, Jr.   \n",
       "\n",
       "  washington_post_id icpsr_id    wikipedia_id  \n",
       "0                NaN  29389.0   Sherrod Brown  \n",
       "1                NaN  39310.0  Maria Cantwell  \n",
       "2                NaN  15408.0      Ben Cardin  \n",
       "3                NaN  15015.0      Tom Carper  \n",
       "4                NaN  40703.0   Bob Casey Jr.  \n",
       "\n",
       "[5 rows x 34 columns]"
      ]
     },
     "execution_count": 76,
     "metadata": {},
     "output_type": "execute_result"
    }
   ],
   "source": [
    "# Can import from a URL\n",
    "legislators = pd.read_csv('https://theunitedstates.io/congress-legislators/legislators-current.csv')\n",
    "legislators.head()"
   ]
  },
  {
   "cell_type": "markdown",
   "metadata": {},
   "source": [
    "## Exercise 3: Explore the Data\n",
    "### Task 1\n",
    "Print the column names of the legistators dataframe and explore the type of data in the data frame. "
   ]
  },
  {
   "cell_type": "code",
   "execution_count": 7,
   "metadata": {},
   "outputs": [
    {
     "data": {
      "text/plain": [
       "Index(['last_name', 'first_name', 'middle_name', 'suffix', 'nickname',\n",
       "       'full_name', 'birthday', 'gender', 'type', 'state', 'district',\n",
       "       'senate_class', 'party', 'url', 'address', 'phone', 'contact_form',\n",
       "       'rss_url', 'twitter', 'facebook', 'youtube', 'youtube_id',\n",
       "       'bioguide_id', 'thomas_id', 'opensecrets_id', 'lis_id', 'fec_ids',\n",
       "       'cspan_id', 'govtrack_id', 'votesmart_id', 'ballotpedia_id',\n",
       "       'washington_post_id', 'icpsr_id', 'wikipedia_id'],\n",
       "      dtype='object')"
      ]
     },
     "execution_count": 7,
     "metadata": {},
     "output_type": "execute_result"
    }
   ],
   "source": [
    "# Don't need () because columns is a \"member variable\" (a variable that is part of the data frame object) not a function, only functions need ()\n",
    "legislators.columns"
   ]
  },
  {
   "cell_type": "markdown",
   "metadata": {},
   "source": [
    "### Task 2\n",
    "Show the datatypes of all of the columns in the legislator data. To do this, use the `.dtypes` member variable. Do all of the data types seem appropriate for the data? "
   ]
  },
  {
   "cell_type": "code",
   "execution_count": 8,
   "metadata": {},
   "outputs": [
    {
     "data": {
      "text/plain": [
       "last_name              object\n",
       "first_name             object\n",
       "middle_name            object\n",
       "suffix                 object\n",
       "nickname               object\n",
       "full_name              object\n",
       "birthday               object\n",
       "gender                 object\n",
       "type                   object\n",
       "state                  object\n",
       "district              float64\n",
       "senate_class          float64\n",
       "party                  object\n",
       "url                    object\n",
       "address                object\n",
       "phone                  object\n",
       "contact_form           object\n",
       "rss_url                object\n",
       "twitter                object\n",
       "facebook               object\n",
       "youtube                object\n",
       "youtube_id             object\n",
       "bioguide_id            object\n",
       "thomas_id             float64\n",
       "opensecrets_id         object\n",
       "lis_id                 object\n",
       "fec_ids                object\n",
       "cspan_id              float64\n",
       "govtrack_id             int64\n",
       "votesmart_id          float64\n",
       "ballotpedia_id         object\n",
       "washington_post_id    float64\n",
       "icpsr_id              float64\n",
       "wikipedia_id           object\n",
       "dtype: object"
      ]
     },
     "execution_count": 8,
     "metadata": {},
     "output_type": "execute_result"
    }
   ],
   "source": [
    "legislators.dtypes\n",
    "# objects are strings"
   ]
  },
  {
   "cell_type": "markdown",
   "metadata": {},
   "source": [
    "Show all of the datayptes in the iris dataframe"
   ]
  },
  {
   "cell_type": "code",
   "execution_count": 9,
   "metadata": {},
   "outputs": [
    {
     "data": {
      "text/plain": [
       "sepal_length    float64\n",
       "sepal_width     float64\n",
       "petal_length    float64\n",
       "petal_width     float64\n",
       "species          object\n",
       "dtype: object"
      ]
     },
     "execution_count": 9,
     "metadata": {},
     "output_type": "execute_result"
    }
   ],
   "source": [
    "iris.dtypes"
   ]
  },
  {
   "cell_type": "markdown",
   "metadata": {},
   "source": [
    "### Task 3\n",
    "It's always important to know where the missing values are in your data. Are there any missing values in the legislators dataframe? How many per column?  \n",
    "\n",
    "Hint: we didn't learn how to find missing values in the lesson, but we can use the `isna()` function."
   ]
  },
  {
   "cell_type": "code",
   "execution_count": 16,
   "metadata": {},
   "outputs": [
    {
     "data": {
      "text/plain": [
       "last_name               0\n",
       "first_name              0\n",
       "middle_name           290\n",
       "suffix                520\n",
       "nickname              497\n",
       "full_name               0\n",
       "birthday                0\n",
       "gender                  0\n",
       "type                    0\n",
       "state                   0\n",
       "district              100\n",
       "senate_class          438\n",
       "party                   0\n",
       "url                     0\n",
       "address                 0\n",
       "phone                   0\n",
       "contact_form          438\n",
       "rss_url               280\n",
       "twitter                10\n",
       "facebook              162\n",
       "youtube               269\n",
       "youtube_id            193\n",
       "bioguide_id             0\n",
       "thomas_id             206\n",
       "opensecrets_id         63\n",
       "lis_id                438\n",
       "fec_ids                 1\n",
       "cspan_id              153\n",
       "govtrack_id             0\n",
       "votesmart_id           58\n",
       "ballotpedia_id         45\n",
       "washington_post_id    538\n",
       "icpsr_id               73\n",
       "wikipedia_id            1\n",
       "dtype: int64"
      ]
     },
     "execution_count": 16,
     "metadata": {},
     "output_type": "execute_result"
    }
   ],
   "source": [
    "legislators.isna()\n",
    "\n",
    "# Find NAs per column (google pandas.DataFrame documentation)\n",
    "# The sum function works because False = 1 and True = 0 (check this?)\n",
    "legislators.isna().sum()"
   ]
  },
  {
   "cell_type": "markdown",
   "metadata": {},
   "source": [
    "How about in the iris dataframe?"
   ]
  },
  {
   "cell_type": "code",
   "execution_count": 18,
   "metadata": {},
   "outputs": [
    {
     "data": {
      "text/plain": [
       "sepal_length    0\n",
       "sepal_width     0\n",
       "petal_length    0\n",
       "petal_width     0\n",
       "species         0\n",
       "dtype: int64"
      ]
     },
     "execution_count": 18,
     "metadata": {},
     "output_type": "execute_result"
    }
   ],
   "source": [
    "iris.isna()\n",
    "iris.isna().sum()"
   ]
  },
  {
   "cell_type": "markdown",
   "metadata": {},
   "source": [
    "### Task 4\n",
    "It is also important to know if you have any duplicatd rows. If you are performing statistcal analyses and you have duplicated entries they can affect the results.  So, let's find out.  Are there any duplicated rows in the legislators dataframe?  Print then number of duplicates. If there are duplicates print the rows. What function could we used to find out if we have duplicated rows?"
   ]
  },
  {
   "cell_type": "code",
   "execution_count": 21,
   "metadata": {},
   "outputs": [
    {
     "data": {
      "text/plain": [
       "0"
      ]
     },
     "execution_count": 21,
     "metadata": {},
     "output_type": "execute_result"
    }
   ],
   "source": [
    "legislators.duplicated().sum()"
   ]
  },
  {
   "cell_type": "markdown",
   "metadata": {},
   "source": [
    "Do we have duplicated rows in the iris dataset? Print the number of duplicates? If there are duplicates print the rows."
   ]
  },
  {
   "cell_type": "code",
   "execution_count": 22,
   "metadata": {},
   "outputs": [
    {
     "data": {
      "text/plain": [
       "3"
      ]
     },
     "execution_count": 22,
     "metadata": {},
     "output_type": "execute_result"
    }
   ],
   "source": [
    "iris.duplicated().sum()"
   ]
  },
  {
   "cell_type": "code",
   "execution_count": 25,
   "metadata": {},
   "outputs": [
    {
     "data": {
      "text/html": [
       "<div>\n",
       "<style scoped>\n",
       "    .dataframe tbody tr th:only-of-type {\n",
       "        vertical-align: middle;\n",
       "    }\n",
       "\n",
       "    .dataframe tbody tr th {\n",
       "        vertical-align: top;\n",
       "    }\n",
       "\n",
       "    .dataframe thead th {\n",
       "        text-align: right;\n",
       "    }\n",
       "</style>\n",
       "<table border=\"1\" class=\"dataframe\">\n",
       "  <thead>\n",
       "    <tr style=\"text-align: right;\">\n",
       "      <th></th>\n",
       "      <th>sepal_length</th>\n",
       "      <th>sepal_width</th>\n",
       "      <th>petal_length</th>\n",
       "      <th>petal_width</th>\n",
       "      <th>species</th>\n",
       "    </tr>\n",
       "  </thead>\n",
       "  <tbody>\n",
       "    <tr>\n",
       "      <th>34</th>\n",
       "      <td>4.9</td>\n",
       "      <td>3.1</td>\n",
       "      <td>1.5</td>\n",
       "      <td>0.1</td>\n",
       "      <td>setosa</td>\n",
       "    </tr>\n",
       "    <tr>\n",
       "      <th>37</th>\n",
       "      <td>4.9</td>\n",
       "      <td>3.1</td>\n",
       "      <td>1.5</td>\n",
       "      <td>0.1</td>\n",
       "      <td>setosa</td>\n",
       "    </tr>\n",
       "    <tr>\n",
       "      <th>142</th>\n",
       "      <td>5.8</td>\n",
       "      <td>2.7</td>\n",
       "      <td>5.1</td>\n",
       "      <td>1.9</td>\n",
       "      <td>virginica</td>\n",
       "    </tr>\n",
       "  </tbody>\n",
       "</table>\n",
       "</div>"
      ],
      "text/plain": [
       "     sepal_length  sepal_width  petal_length  petal_width    species\n",
       "34            4.9          3.1           1.5          0.1     setosa\n",
       "37            4.9          3.1           1.5          0.1     setosa\n",
       "142           5.8          2.7           5.1          1.9  virginica"
      ]
     },
     "execution_count": 25,
     "metadata": {},
     "output_type": "execute_result"
    }
   ],
   "source": [
    "iris[iris.duplicated()]"
   ]
  },
  {
   "cell_type": "markdown",
   "metadata": {},
   "source": [
    "If there are duplicated rows should we remove them or keep them?"
   ]
  },
  {
   "cell_type": "raw",
   "metadata": {},
   "source": [
    "Keep them. You can have flowers that are the same size."
   ]
  },
  {
   "cell_type": "markdown",
   "metadata": {},
   "source": [
    "### Task 5\n",
    "It is important to also check that the range of values in our data matches expectations.  For example, if we expect to have three species in our iris data, we should check that we see three species. How many political parties should we expect in the legislators data?  If all we saw were a single part perhaps the data is incomplete.... Let's check.   You can find out how many unique values there are per column using the `.nunique` function.  Try it for both the legislators and the iris data set."
   ]
  },
  {
   "cell_type": "code",
   "execution_count": 26,
   "metadata": {},
   "outputs": [
    {
     "data": {
      "text/plain": [
       "sepal_length    35\n",
       "sepal_width     23\n",
       "petal_length    43\n",
       "petal_width     22\n",
       "species          3\n",
       "dtype: int64"
      ]
     },
     "execution_count": 26,
     "metadata": {},
     "output_type": "execute_result"
    }
   ],
   "source": [
    "iris.nunique()"
   ]
  },
  {
   "cell_type": "code",
   "execution_count": 29,
   "metadata": {},
   "outputs": [
    {
     "data": {
      "text/plain": [
       "(538, 34)"
      ]
     },
     "execution_count": 29,
     "metadata": {},
     "output_type": "execute_result"
    }
   ],
   "source": [
    "legislators.shape"
   ]
  },
  {
   "cell_type": "code",
   "execution_count": 27,
   "metadata": {},
   "outputs": [
    {
     "data": {
      "text/plain": [
       "last_name             491\n",
       "first_name            323\n",
       "middle_name            88\n",
       "suffix                  5\n",
       "nickname               32\n",
       "full_name             538\n",
       "birthday              530\n",
       "gender                  2\n",
       "type                    2\n",
       "state                  56\n",
       "district               54\n",
       "senate_class            3\n",
       "party                   3\n",
       "url                   538\n",
       "address               538\n",
       "phone                 538\n",
       "contact_form          100\n",
       "rss_url               257\n",
       "twitter               528\n",
       "facebook              376\n",
       "youtube               269\n",
       "youtube_id            345\n",
       "bioguide_id           538\n",
       "thomas_id             332\n",
       "opensecrets_id        475\n",
       "lis_id                100\n",
       "fec_ids               537\n",
       "cspan_id              385\n",
       "govtrack_id           538\n",
       "votesmart_id          480\n",
       "ballotpedia_id        493\n",
       "washington_post_id      0\n",
       "icpsr_id              465\n",
       "wikipedia_id          537\n",
       "dtype: int64"
      ]
     },
     "execution_count": 27,
     "metadata": {},
     "output_type": "execute_result"
    }
   ],
   "source": [
    "legislators.nunique()"
   ]
  },
  {
   "cell_type": "code",
   "execution_count": 32,
   "metadata": {},
   "outputs": [
    {
     "data": {
      "text/plain": [
       "array(['OH', 'WA', 'MD', 'DE', 'PA', 'CA', 'MN', 'NJ', 'VT', 'MI', 'MT',\n",
       "       'RI', 'WY', 'MS', 'ME', 'TX', 'IL', 'SC', 'OK', 'KY', 'OR', 'ID',\n",
       "       'NH', 'VA', 'NY', 'WV', 'AL', 'WI', 'CO', 'FL', 'GA', 'TN', 'CT',\n",
       "       'MO', 'AR', 'IN', 'NC', 'LA', 'NE', 'AZ', 'IA', 'NM', 'HI', 'ND',\n",
       "       'MA', 'UT', 'KS', 'AK', 'DC', 'MP', 'SD', 'NV', 'VI', 'AS', 'PR',\n",
       "       'GU'], dtype=object)"
      ]
     },
     "execution_count": 32,
     "metadata": {},
     "output_type": "execute_result"
    }
   ],
   "source": [
    "# Pull out unique states\n",
    "legislators['state'].unique()"
   ]
  },
  {
   "cell_type": "markdown",
   "metadata": {},
   "source": [
    "What do you think?  Do we see what we might expect?  Are there fields where this type of check doesn't matter? In what fields might this type of exploration matter?"
   ]
  },
  {
   "cell_type": "markdown",
   "metadata": {},
   "source": [
    "Check to see if you have all of the values expected for a given field. Pick a column you know should have a set number of values and print all of the unique values in that column. Do so for both the legislator and iris datasets."
   ]
  },
  {
   "cell_type": "code",
   "execution_count": 34,
   "metadata": {},
   "outputs": [
    {
     "data": {
      "text/plain": [
       "array(['M', 'F'], dtype=object)"
      ]
     },
     "execution_count": 34,
     "metadata": {},
     "output_type": "execute_result"
    }
   ],
   "source": [
    "# Subsetting to a column produces a series not a dataframe\n",
    "legislators['gender'].unique()"
   ]
  },
  {
   "cell_type": "code",
   "execution_count": 35,
   "metadata": {},
   "outputs": [
    {
     "data": {
      "text/plain": [
       "array([5.1, 4.9, 4.7, 4.6, 5. , 5.4, 4.4, 4.8, 4.3, 5.8, 5.7, 5.2, 5.5,\n",
       "       4.5, 5.3, 7. , 6.4, 6.9, 6.5, 6.3, 6.6, 5.9, 6. , 6.1, 5.6, 6.7,\n",
       "       6.2, 6.8, 7.1, 7.6, 7.3, 7.2, 7.7, 7.4, 7.9])"
      ]
     },
     "execution_count": 35,
     "metadata": {},
     "output_type": "execute_result"
    }
   ],
   "source": [
    "iris['sepal_length'].unique()"
   ]
  },
  {
   "cell_type": "markdown",
   "metadata": {},
   "source": [
    "## Exercise 5: Describe the data\n",
    "For both the legislators and the iris data, get descriptive statistics for each numeric field."
   ]
  },
  {
   "cell_type": "code",
   "execution_count": 36,
   "metadata": {},
   "outputs": [
    {
     "data": {
      "text/html": [
       "<div>\n",
       "<style scoped>\n",
       "    .dataframe tbody tr th:only-of-type {\n",
       "        vertical-align: middle;\n",
       "    }\n",
       "\n",
       "    .dataframe tbody tr th {\n",
       "        vertical-align: top;\n",
       "    }\n",
       "\n",
       "    .dataframe thead th {\n",
       "        text-align: right;\n",
       "    }\n",
       "</style>\n",
       "<table border=\"1\" class=\"dataframe\">\n",
       "  <thead>\n",
       "    <tr style=\"text-align: right;\">\n",
       "      <th></th>\n",
       "      <th>sepal_length</th>\n",
       "      <th>sepal_width</th>\n",
       "      <th>petal_length</th>\n",
       "      <th>petal_width</th>\n",
       "    </tr>\n",
       "  </thead>\n",
       "  <tbody>\n",
       "    <tr>\n",
       "      <th>count</th>\n",
       "      <td>150.000000</td>\n",
       "      <td>150.000000</td>\n",
       "      <td>150.000000</td>\n",
       "      <td>150.000000</td>\n",
       "    </tr>\n",
       "    <tr>\n",
       "      <th>mean</th>\n",
       "      <td>5.843333</td>\n",
       "      <td>3.054000</td>\n",
       "      <td>3.758667</td>\n",
       "      <td>1.198667</td>\n",
       "    </tr>\n",
       "    <tr>\n",
       "      <th>std</th>\n",
       "      <td>0.828066</td>\n",
       "      <td>0.433594</td>\n",
       "      <td>1.764420</td>\n",
       "      <td>0.763161</td>\n",
       "    </tr>\n",
       "    <tr>\n",
       "      <th>min</th>\n",
       "      <td>4.300000</td>\n",
       "      <td>2.000000</td>\n",
       "      <td>1.000000</td>\n",
       "      <td>0.100000</td>\n",
       "    </tr>\n",
       "    <tr>\n",
       "      <th>25%</th>\n",
       "      <td>5.100000</td>\n",
       "      <td>2.800000</td>\n",
       "      <td>1.600000</td>\n",
       "      <td>0.300000</td>\n",
       "    </tr>\n",
       "    <tr>\n",
       "      <th>50%</th>\n",
       "      <td>5.800000</td>\n",
       "      <td>3.000000</td>\n",
       "      <td>4.350000</td>\n",
       "      <td>1.300000</td>\n",
       "    </tr>\n",
       "    <tr>\n",
       "      <th>75%</th>\n",
       "      <td>6.400000</td>\n",
       "      <td>3.300000</td>\n",
       "      <td>5.100000</td>\n",
       "      <td>1.800000</td>\n",
       "    </tr>\n",
       "    <tr>\n",
       "      <th>max</th>\n",
       "      <td>7.900000</td>\n",
       "      <td>4.400000</td>\n",
       "      <td>6.900000</td>\n",
       "      <td>2.500000</td>\n",
       "    </tr>\n",
       "  </tbody>\n",
       "</table>\n",
       "</div>"
      ],
      "text/plain": [
       "       sepal_length  sepal_width  petal_length  petal_width\n",
       "count    150.000000   150.000000    150.000000   150.000000\n",
       "mean       5.843333     3.054000      3.758667     1.198667\n",
       "std        0.828066     0.433594      1.764420     0.763161\n",
       "min        4.300000     2.000000      1.000000     0.100000\n",
       "25%        5.100000     2.800000      1.600000     0.300000\n",
       "50%        5.800000     3.000000      4.350000     1.300000\n",
       "75%        6.400000     3.300000      5.100000     1.800000\n",
       "max        7.900000     4.400000      6.900000     2.500000"
      ]
     },
     "execution_count": 36,
     "metadata": {},
     "output_type": "execute_result"
    }
   ],
   "source": [
    "iris.describe()"
   ]
  },
  {
   "cell_type": "code",
   "execution_count": 37,
   "metadata": {},
   "outputs": [
    {
     "data": {
      "text/html": [
       "<div>\n",
       "<style scoped>\n",
       "    .dataframe tbody tr th:only-of-type {\n",
       "        vertical-align: middle;\n",
       "    }\n",
       "\n",
       "    .dataframe tbody tr th {\n",
       "        vertical-align: top;\n",
       "    }\n",
       "\n",
       "    .dataframe thead th {\n",
       "        text-align: right;\n",
       "    }\n",
       "</style>\n",
       "<table border=\"1\" class=\"dataframe\">\n",
       "  <thead>\n",
       "    <tr style=\"text-align: right;\">\n",
       "      <th></th>\n",
       "      <th>district</th>\n",
       "      <th>senate_class</th>\n",
       "      <th>thomas_id</th>\n",
       "      <th>cspan_id</th>\n",
       "      <th>govtrack_id</th>\n",
       "      <th>votesmart_id</th>\n",
       "      <th>washington_post_id</th>\n",
       "      <th>icpsr_id</th>\n",
       "    </tr>\n",
       "  </thead>\n",
       "  <tbody>\n",
       "    <tr>\n",
       "      <th>count</th>\n",
       "      <td>438.000000</td>\n",
       "      <td>100.000000</td>\n",
       "      <td>332.000000</td>\n",
       "      <td>3.850000e+02</td>\n",
       "      <td>538.000000</td>\n",
       "      <td>480.000000</td>\n",
       "      <td>0.0</td>\n",
       "      <td>465.000000</td>\n",
       "    </tr>\n",
       "    <tr>\n",
       "      <th>mean</th>\n",
       "      <td>10.059361</td>\n",
       "      <td>2.010000</td>\n",
       "      <td>1747.445783</td>\n",
       "      <td>5.419848e+05</td>\n",
       "      <td>411688.949814</td>\n",
       "      <td>75474.483333</td>\n",
       "      <td>NaN</td>\n",
       "      <td>24256.202151</td>\n",
       "    </tr>\n",
       "    <tr>\n",
       "      <th>std</th>\n",
       "      <td>10.674341</td>\n",
       "      <td>0.822598</td>\n",
       "      <td>548.300825</td>\n",
       "      <td>1.484390e+06</td>\n",
       "      <td>26857.026308</td>\n",
       "      <td>62230.266744</td>\n",
       "      <td>NaN</td>\n",
       "      <td>7501.216031</td>\n",
       "    </tr>\n",
       "    <tr>\n",
       "      <th>min</th>\n",
       "      <td>0.000000</td>\n",
       "      <td>1.000000</td>\n",
       "      <td>91.000000</td>\n",
       "      <td>2.600000e+02</td>\n",
       "      <td>300018.000000</td>\n",
       "      <td>119.000000</td>\n",
       "      <td>NaN</td>\n",
       "      <td>14066.000000</td>\n",
       "    </tr>\n",
       "    <tr>\n",
       "      <th>25%</th>\n",
       "      <td>3.000000</td>\n",
       "      <td>1.000000</td>\n",
       "      <td>1626.750000</td>\n",
       "      <td>4.555200e+04</td>\n",
       "      <td>412196.750000</td>\n",
       "      <td>22487.750000</td>\n",
       "      <td>NaN</td>\n",
       "      <td>21106.000000</td>\n",
       "    </tr>\n",
       "    <tr>\n",
       "      <th>50%</th>\n",
       "      <td>6.000000</td>\n",
       "      <td>2.000000</td>\n",
       "      <td>1918.500000</td>\n",
       "      <td>7.971000e+04</td>\n",
       "      <td>412565.500000</td>\n",
       "      <td>52964.000000</td>\n",
       "      <td>NaN</td>\n",
       "      <td>21564.000000</td>\n",
       "    </tr>\n",
       "    <tr>\n",
       "      <th>75%</th>\n",
       "      <td>13.000000</td>\n",
       "      <td>3.000000</td>\n",
       "      <td>2124.500000</td>\n",
       "      <td>1.003551e+06</td>\n",
       "      <td>412765.500000</td>\n",
       "      <td>133023.500000</td>\n",
       "      <td>NaN</td>\n",
       "      <td>21972.000000</td>\n",
       "    </tr>\n",
       "    <tr>\n",
       "      <th>max</th>\n",
       "      <td>53.000000</td>\n",
       "      <td>3.000000</td>\n",
       "      <td>2296.000000</td>\n",
       "      <td>9.275683e+06</td>\n",
       "      <td>456858.000000</td>\n",
       "      <td>188334.000000</td>\n",
       "      <td>NaN</td>\n",
       "      <td>94659.000000</td>\n",
       "    </tr>\n",
       "  </tbody>\n",
       "</table>\n",
       "</div>"
      ],
      "text/plain": [
       "         district  senate_class    thomas_id      cspan_id    govtrack_id  \\\n",
       "count  438.000000    100.000000   332.000000  3.850000e+02     538.000000   \n",
       "mean    10.059361      2.010000  1747.445783  5.419848e+05  411688.949814   \n",
       "std     10.674341      0.822598   548.300825  1.484390e+06   26857.026308   \n",
       "min      0.000000      1.000000    91.000000  2.600000e+02  300018.000000   \n",
       "25%      3.000000      1.000000  1626.750000  4.555200e+04  412196.750000   \n",
       "50%      6.000000      2.000000  1918.500000  7.971000e+04  412565.500000   \n",
       "75%     13.000000      3.000000  2124.500000  1.003551e+06  412765.500000   \n",
       "max     53.000000      3.000000  2296.000000  9.275683e+06  456858.000000   \n",
       "\n",
       "        votesmart_id  washington_post_id      icpsr_id  \n",
       "count     480.000000                 0.0    465.000000  \n",
       "mean    75474.483333                 NaN  24256.202151  \n",
       "std     62230.266744                 NaN   7501.216031  \n",
       "min       119.000000                 NaN  14066.000000  \n",
       "25%     22487.750000                 NaN  21106.000000  \n",
       "50%     52964.000000                 NaN  21564.000000  \n",
       "75%    133023.500000                 NaN  21972.000000  \n",
       "max    188334.000000                 NaN  94659.000000  "
      ]
     },
     "execution_count": 37,
     "metadata": {},
     "output_type": "execute_result"
    }
   ],
   "source": [
    "# This is pointless for the legislators data\n",
    "legislators.describe()"
   ]
  },
  {
   "cell_type": "markdown",
   "metadata": {},
   "source": [
    "## Exercise 6: Row Index Labels\n",
    "For the legislator dataframe, let's change the row labels from numerical indexes to something more recognizable.  Take a look at the columns of data, is there anything you might want to substitue as a row label?  Pick one and set the index lables. Then print the top 5 rows to see if the index labels are present."
   ]
  },
  {
   "cell_type": "code",
   "execution_count": 44,
   "metadata": {},
   "outputs": [
    {
     "data": {
      "text/html": [
       "<div>\n",
       "<style scoped>\n",
       "    .dataframe tbody tr th:only-of-type {\n",
       "        vertical-align: middle;\n",
       "    }\n",
       "\n",
       "    .dataframe tbody tr th {\n",
       "        vertical-align: top;\n",
       "    }\n",
       "\n",
       "    .dataframe thead th {\n",
       "        text-align: right;\n",
       "    }\n",
       "</style>\n",
       "<table border=\"1\" class=\"dataframe\">\n",
       "  <thead>\n",
       "    <tr style=\"text-align: right;\">\n",
       "      <th></th>\n",
       "      <th>last_name</th>\n",
       "      <th>first_name</th>\n",
       "      <th>middle_name</th>\n",
       "      <th>suffix</th>\n",
       "      <th>nickname</th>\n",
       "      <th>full_name</th>\n",
       "      <th>birthday</th>\n",
       "      <th>gender</th>\n",
       "      <th>type</th>\n",
       "      <th>state</th>\n",
       "      <th>...</th>\n",
       "      <th>opensecrets_id</th>\n",
       "      <th>lis_id</th>\n",
       "      <th>fec_ids</th>\n",
       "      <th>cspan_id</th>\n",
       "      <th>govtrack_id</th>\n",
       "      <th>votesmart_id</th>\n",
       "      <th>ballotpedia_id</th>\n",
       "      <th>washington_post_id</th>\n",
       "      <th>icpsr_id</th>\n",
       "      <th>wikipedia_id</th>\n",
       "    </tr>\n",
       "    <tr>\n",
       "      <th>last_name</th>\n",
       "      <th></th>\n",
       "      <th></th>\n",
       "      <th></th>\n",
       "      <th></th>\n",
       "      <th></th>\n",
       "      <th></th>\n",
       "      <th></th>\n",
       "      <th></th>\n",
       "      <th></th>\n",
       "      <th></th>\n",
       "      <th></th>\n",
       "      <th></th>\n",
       "      <th></th>\n",
       "      <th></th>\n",
       "      <th></th>\n",
       "      <th></th>\n",
       "      <th></th>\n",
       "      <th></th>\n",
       "      <th></th>\n",
       "      <th></th>\n",
       "      <th></th>\n",
       "    </tr>\n",
       "  </thead>\n",
       "  <tbody>\n",
       "    <tr>\n",
       "      <th>Brown</th>\n",
       "      <td>Brown</td>\n",
       "      <td>Sherrod</td>\n",
       "      <td>NaN</td>\n",
       "      <td>NaN</td>\n",
       "      <td>NaN</td>\n",
       "      <td>Sherrod Brown</td>\n",
       "      <td>1952-11-09</td>\n",
       "      <td>M</td>\n",
       "      <td>sen</td>\n",
       "      <td>OH</td>\n",
       "      <td>...</td>\n",
       "      <td>N00003535</td>\n",
       "      <td>S307</td>\n",
       "      <td>H2OH13033,S6OH00163</td>\n",
       "      <td>5051.0</td>\n",
       "      <td>400050</td>\n",
       "      <td>27018.0</td>\n",
       "      <td>Sherrod Brown</td>\n",
       "      <td>NaN</td>\n",
       "      <td>29389.0</td>\n",
       "      <td>Sherrod Brown</td>\n",
       "    </tr>\n",
       "    <tr>\n",
       "      <th>Cantwell</th>\n",
       "      <td>Cantwell</td>\n",
       "      <td>Maria</td>\n",
       "      <td>NaN</td>\n",
       "      <td>NaN</td>\n",
       "      <td>NaN</td>\n",
       "      <td>Maria Cantwell</td>\n",
       "      <td>1958-10-13</td>\n",
       "      <td>F</td>\n",
       "      <td>sen</td>\n",
       "      <td>WA</td>\n",
       "      <td>...</td>\n",
       "      <td>N00007836</td>\n",
       "      <td>S275</td>\n",
       "      <td>S8WA00194,H2WA01054</td>\n",
       "      <td>26137.0</td>\n",
       "      <td>300018</td>\n",
       "      <td>27122.0</td>\n",
       "      <td>Maria Cantwell</td>\n",
       "      <td>NaN</td>\n",
       "      <td>39310.0</td>\n",
       "      <td>Maria Cantwell</td>\n",
       "    </tr>\n",
       "    <tr>\n",
       "      <th>Cardin</th>\n",
       "      <td>Cardin</td>\n",
       "      <td>Benjamin</td>\n",
       "      <td>L.</td>\n",
       "      <td>NaN</td>\n",
       "      <td>NaN</td>\n",
       "      <td>Benjamin L. Cardin</td>\n",
       "      <td>1943-10-05</td>\n",
       "      <td>M</td>\n",
       "      <td>sen</td>\n",
       "      <td>MD</td>\n",
       "      <td>...</td>\n",
       "      <td>N00001955</td>\n",
       "      <td>S308</td>\n",
       "      <td>H6MD03177,S6MD03177</td>\n",
       "      <td>4004.0</td>\n",
       "      <td>400064</td>\n",
       "      <td>26888.0</td>\n",
       "      <td>Ben Cardin</td>\n",
       "      <td>NaN</td>\n",
       "      <td>15408.0</td>\n",
       "      <td>Ben Cardin</td>\n",
       "    </tr>\n",
       "    <tr>\n",
       "      <th>Carper</th>\n",
       "      <td>Carper</td>\n",
       "      <td>Thomas</td>\n",
       "      <td>Richard</td>\n",
       "      <td>NaN</td>\n",
       "      <td>NaN</td>\n",
       "      <td>Thomas R. Carper</td>\n",
       "      <td>1947-01-23</td>\n",
       "      <td>M</td>\n",
       "      <td>sen</td>\n",
       "      <td>DE</td>\n",
       "      <td>...</td>\n",
       "      <td>N00012508</td>\n",
       "      <td>S277</td>\n",
       "      <td>S8DE00079</td>\n",
       "      <td>663.0</td>\n",
       "      <td>300019</td>\n",
       "      <td>22421.0</td>\n",
       "      <td>Tom Carper</td>\n",
       "      <td>NaN</td>\n",
       "      <td>15015.0</td>\n",
       "      <td>Tom Carper</td>\n",
       "    </tr>\n",
       "    <tr>\n",
       "      <th>Casey</th>\n",
       "      <td>Casey</td>\n",
       "      <td>Robert</td>\n",
       "      <td>P.</td>\n",
       "      <td>Jr.</td>\n",
       "      <td>Bob</td>\n",
       "      <td>Robert P. Casey, Jr.</td>\n",
       "      <td>1960-04-13</td>\n",
       "      <td>M</td>\n",
       "      <td>sen</td>\n",
       "      <td>PA</td>\n",
       "      <td>...</td>\n",
       "      <td>N00027503</td>\n",
       "      <td>S309</td>\n",
       "      <td>S6PA00217</td>\n",
       "      <td>47036.0</td>\n",
       "      <td>412246</td>\n",
       "      <td>2541.0</td>\n",
       "      <td>Bob Casey, Jr.</td>\n",
       "      <td>NaN</td>\n",
       "      <td>40703.0</td>\n",
       "      <td>Bob Casey Jr.</td>\n",
       "    </tr>\n",
       "  </tbody>\n",
       "</table>\n",
       "<p>5 rows × 34 columns</p>\n",
       "</div>"
      ],
      "text/plain": [
       "          last_name first_name middle_name suffix nickname  \\\n",
       "last_name                                                    \n",
       "Brown         Brown    Sherrod         NaN    NaN      NaN   \n",
       "Cantwell   Cantwell      Maria         NaN    NaN      NaN   \n",
       "Cardin       Cardin   Benjamin          L.    NaN      NaN   \n",
       "Carper       Carper     Thomas     Richard    NaN      NaN   \n",
       "Casey         Casey     Robert          P.    Jr.      Bob   \n",
       "\n",
       "                      full_name    birthday gender type state       ...        \\\n",
       "last_name                                                           ...         \n",
       "Brown             Sherrod Brown  1952-11-09      M  sen    OH       ...         \n",
       "Cantwell         Maria Cantwell  1958-10-13      F  sen    WA       ...         \n",
       "Cardin       Benjamin L. Cardin  1943-10-05      M  sen    MD       ...         \n",
       "Carper         Thomas R. Carper  1947-01-23      M  sen    DE       ...         \n",
       "Casey      Robert P. Casey, Jr.  1960-04-13      M  sen    PA       ...         \n",
       "\n",
       "           opensecrets_id  lis_id              fec_ids cspan_id govtrack_id  \\\n",
       "last_name                                                                     \n",
       "Brown           N00003535    S307  H2OH13033,S6OH00163   5051.0      400050   \n",
       "Cantwell        N00007836    S275  S8WA00194,H2WA01054  26137.0      300018   \n",
       "Cardin          N00001955    S308  H6MD03177,S6MD03177   4004.0      400064   \n",
       "Carper          N00012508    S277            S8DE00079    663.0      300019   \n",
       "Casey           N00027503    S309            S6PA00217  47036.0      412246   \n",
       "\n",
       "          votesmart_id  ballotpedia_id washington_post_id icpsr_id  \\\n",
       "last_name                                                            \n",
       "Brown          27018.0   Sherrod Brown                NaN  29389.0   \n",
       "Cantwell       27122.0  Maria Cantwell                NaN  39310.0   \n",
       "Cardin         26888.0      Ben Cardin                NaN  15408.0   \n",
       "Carper         22421.0      Tom Carper                NaN  15015.0   \n",
       "Casey           2541.0  Bob Casey, Jr.                NaN  40703.0   \n",
       "\n",
       "             wikipedia_id  \n",
       "last_name                  \n",
       "Brown       Sherrod Brown  \n",
       "Cantwell   Maria Cantwell  \n",
       "Cardin         Ben Cardin  \n",
       "Carper         Tom Carper  \n",
       "Casey       Bob Casey Jr.  \n",
       "\n",
       "[5 rows x 34 columns]"
      ]
     },
     "execution_count": 44,
     "metadata": {},
     "output_type": "execute_result"
    }
   ],
   "source": [
    "legislators.index\n",
    "legislators.head()\n",
    "legislators.index = legislators['last_name']\n",
    "legislators.head()"
   ]
  },
  {
   "cell_type": "code",
   "execution_count": 46,
   "metadata": {},
   "outputs": [
    {
     "data": {
      "text/plain": [
       "last_name                                                        Graham\n",
       "first_name                                                      Lindsey\n",
       "middle_name                                                          O.\n",
       "suffix                                                              NaN\n",
       "nickname                                                            NaN\n",
       "full_name                                                Lindsey Graham\n",
       "birthday                                                     1955-07-09\n",
       "gender                                                                M\n",
       "type                                                                sen\n",
       "state                                                                SC\n",
       "district                                                            NaN\n",
       "senate_class                                                          2\n",
       "party                                                        Republican\n",
       "url                               https://www.lgraham.senate.gov/public\n",
       "address               290 Russell Senate Office Building Washington ...\n",
       "phone                                                      202-224-5972\n",
       "contact_form          https://www.lgraham.senate.gov/public/index.cf...\n",
       "rss_url               http://www.lgraham.senate.gov/public/index.cfm...\n",
       "twitter                                                      GrahamBlog\n",
       "facebook                                         USSenatorLindseyGraham\n",
       "youtube                                              USSenLindseyGraham\n",
       "youtube_id                                     UClLGZMA5Ei2Z8fR1PLEx6yQ\n",
       "bioguide_id                                                     G000359\n",
       "thomas_id                                                           452\n",
       "opensecrets_id                                                N00009975\n",
       "lis_id                                                             S293\n",
       "fec_ids                                             S0SC00149,H4SC03087\n",
       "cspan_id                                                          36782\n",
       "govtrack_id                                                      300047\n",
       "votesmart_id                                                      21992\n",
       "ballotpedia_id                                           Lindsey Graham\n",
       "washington_post_id                                                  NaN\n",
       "icpsr_id                                                          29566\n",
       "wikipedia_id                                             Lindsey Graham\n",
       "Name: Graham, dtype: object"
      ]
     },
     "execution_count": 46,
     "metadata": {},
     "output_type": "execute_result"
    }
   ],
   "source": [
    "# .loc required to slice data frame by labels\n",
    "legislators.loc['Graham']"
   ]
  },
  {
   "cell_type": "markdown",
   "metadata": {},
   "source": [
    "## Exercise 7: Indexing & Sampling\n",
    "Randomly select 15 Republicans or Democrats (your choice) from the senate."
   ]
  },
  {
   "cell_type": "code",
   "execution_count": 59,
   "metadata": {},
   "outputs": [
    {
     "data": {
      "text/html": [
       "<div>\n",
       "<style scoped>\n",
       "    .dataframe tbody tr th:only-of-type {\n",
       "        vertical-align: middle;\n",
       "    }\n",
       "\n",
       "    .dataframe tbody tr th {\n",
       "        vertical-align: top;\n",
       "    }\n",
       "\n",
       "    .dataframe thead th {\n",
       "        text-align: right;\n",
       "    }\n",
       "</style>\n",
       "<table border=\"1\" class=\"dataframe\">\n",
       "  <thead>\n",
       "    <tr style=\"text-align: right;\">\n",
       "      <th></th>\n",
       "      <th>last_name</th>\n",
       "      <th>first_name</th>\n",
       "      <th>middle_name</th>\n",
       "      <th>suffix</th>\n",
       "      <th>nickname</th>\n",
       "      <th>full_name</th>\n",
       "      <th>birthday</th>\n",
       "      <th>gender</th>\n",
       "      <th>type</th>\n",
       "      <th>state</th>\n",
       "      <th>...</th>\n",
       "      <th>opensecrets_id</th>\n",
       "      <th>lis_id</th>\n",
       "      <th>fec_ids</th>\n",
       "      <th>cspan_id</th>\n",
       "      <th>govtrack_id</th>\n",
       "      <th>votesmart_id</th>\n",
       "      <th>ballotpedia_id</th>\n",
       "      <th>washington_post_id</th>\n",
       "      <th>icpsr_id</th>\n",
       "      <th>wikipedia_id</th>\n",
       "    </tr>\n",
       "    <tr>\n",
       "      <th>last_name</th>\n",
       "      <th></th>\n",
       "      <th></th>\n",
       "      <th></th>\n",
       "      <th></th>\n",
       "      <th></th>\n",
       "      <th></th>\n",
       "      <th></th>\n",
       "      <th></th>\n",
       "      <th></th>\n",
       "      <th></th>\n",
       "      <th></th>\n",
       "      <th></th>\n",
       "      <th></th>\n",
       "      <th></th>\n",
       "      <th></th>\n",
       "      <th></th>\n",
       "      <th></th>\n",
       "      <th></th>\n",
       "      <th></th>\n",
       "      <th></th>\n",
       "      <th></th>\n",
       "    </tr>\n",
       "  </thead>\n",
       "  <tbody>\n",
       "    <tr>\n",
       "      <th>Brown</th>\n",
       "      <td>Brown</td>\n",
       "      <td>Sherrod</td>\n",
       "      <td>NaN</td>\n",
       "      <td>NaN</td>\n",
       "      <td>NaN</td>\n",
       "      <td>Sherrod Brown</td>\n",
       "      <td>1952-11-09</td>\n",
       "      <td>M</td>\n",
       "      <td>sen</td>\n",
       "      <td>OH</td>\n",
       "      <td>...</td>\n",
       "      <td>N00003535</td>\n",
       "      <td>S307</td>\n",
       "      <td>H2OH13033,S6OH00163</td>\n",
       "      <td>5051.0</td>\n",
       "      <td>400050</td>\n",
       "      <td>27018.0</td>\n",
       "      <td>Sherrod Brown</td>\n",
       "      <td>NaN</td>\n",
       "      <td>29389.0</td>\n",
       "      <td>Sherrod Brown</td>\n",
       "    </tr>\n",
       "    <tr>\n",
       "      <th>Cantwell</th>\n",
       "      <td>Cantwell</td>\n",
       "      <td>Maria</td>\n",
       "      <td>NaN</td>\n",
       "      <td>NaN</td>\n",
       "      <td>NaN</td>\n",
       "      <td>Maria Cantwell</td>\n",
       "      <td>1958-10-13</td>\n",
       "      <td>F</td>\n",
       "      <td>sen</td>\n",
       "      <td>WA</td>\n",
       "      <td>...</td>\n",
       "      <td>N00007836</td>\n",
       "      <td>S275</td>\n",
       "      <td>S8WA00194,H2WA01054</td>\n",
       "      <td>26137.0</td>\n",
       "      <td>300018</td>\n",
       "      <td>27122.0</td>\n",
       "      <td>Maria Cantwell</td>\n",
       "      <td>NaN</td>\n",
       "      <td>39310.0</td>\n",
       "      <td>Maria Cantwell</td>\n",
       "    </tr>\n",
       "    <tr>\n",
       "      <th>Cardin</th>\n",
       "      <td>Cardin</td>\n",
       "      <td>Benjamin</td>\n",
       "      <td>L.</td>\n",
       "      <td>NaN</td>\n",
       "      <td>NaN</td>\n",
       "      <td>Benjamin L. Cardin</td>\n",
       "      <td>1943-10-05</td>\n",
       "      <td>M</td>\n",
       "      <td>sen</td>\n",
       "      <td>MD</td>\n",
       "      <td>...</td>\n",
       "      <td>N00001955</td>\n",
       "      <td>S308</td>\n",
       "      <td>H6MD03177,S6MD03177</td>\n",
       "      <td>4004.0</td>\n",
       "      <td>400064</td>\n",
       "      <td>26888.0</td>\n",
       "      <td>Ben Cardin</td>\n",
       "      <td>NaN</td>\n",
       "      <td>15408.0</td>\n",
       "      <td>Ben Cardin</td>\n",
       "    </tr>\n",
       "    <tr>\n",
       "      <th>Carper</th>\n",
       "      <td>Carper</td>\n",
       "      <td>Thomas</td>\n",
       "      <td>Richard</td>\n",
       "      <td>NaN</td>\n",
       "      <td>NaN</td>\n",
       "      <td>Thomas R. Carper</td>\n",
       "      <td>1947-01-23</td>\n",
       "      <td>M</td>\n",
       "      <td>sen</td>\n",
       "      <td>DE</td>\n",
       "      <td>...</td>\n",
       "      <td>N00012508</td>\n",
       "      <td>S277</td>\n",
       "      <td>S8DE00079</td>\n",
       "      <td>663.0</td>\n",
       "      <td>300019</td>\n",
       "      <td>22421.0</td>\n",
       "      <td>Tom Carper</td>\n",
       "      <td>NaN</td>\n",
       "      <td>15015.0</td>\n",
       "      <td>Tom Carper</td>\n",
       "    </tr>\n",
       "    <tr>\n",
       "      <th>Casey</th>\n",
       "      <td>Casey</td>\n",
       "      <td>Robert</td>\n",
       "      <td>P.</td>\n",
       "      <td>Jr.</td>\n",
       "      <td>Bob</td>\n",
       "      <td>Robert P. Casey, Jr.</td>\n",
       "      <td>1960-04-13</td>\n",
       "      <td>M</td>\n",
       "      <td>sen</td>\n",
       "      <td>PA</td>\n",
       "      <td>...</td>\n",
       "      <td>N00027503</td>\n",
       "      <td>S309</td>\n",
       "      <td>S6PA00217</td>\n",
       "      <td>47036.0</td>\n",
       "      <td>412246</td>\n",
       "      <td>2541.0</td>\n",
       "      <td>Bob Casey, Jr.</td>\n",
       "      <td>NaN</td>\n",
       "      <td>40703.0</td>\n",
       "      <td>Bob Casey Jr.</td>\n",
       "    </tr>\n",
       "  </tbody>\n",
       "</table>\n",
       "<p>5 rows × 34 columns</p>\n",
       "</div>"
      ],
      "text/plain": [
       "          last_name first_name middle_name suffix nickname  \\\n",
       "last_name                                                    \n",
       "Brown         Brown    Sherrod         NaN    NaN      NaN   \n",
       "Cantwell   Cantwell      Maria         NaN    NaN      NaN   \n",
       "Cardin       Cardin   Benjamin          L.    NaN      NaN   \n",
       "Carper       Carper     Thomas     Richard    NaN      NaN   \n",
       "Casey         Casey     Robert          P.    Jr.      Bob   \n",
       "\n",
       "                      full_name    birthday gender type state       ...        \\\n",
       "last_name                                                           ...         \n",
       "Brown             Sherrod Brown  1952-11-09      M  sen    OH       ...         \n",
       "Cantwell         Maria Cantwell  1958-10-13      F  sen    WA       ...         \n",
       "Cardin       Benjamin L. Cardin  1943-10-05      M  sen    MD       ...         \n",
       "Carper         Thomas R. Carper  1947-01-23      M  sen    DE       ...         \n",
       "Casey      Robert P. Casey, Jr.  1960-04-13      M  sen    PA       ...         \n",
       "\n",
       "           opensecrets_id  lis_id              fec_ids cspan_id govtrack_id  \\\n",
       "last_name                                                                     \n",
       "Brown           N00003535    S307  H2OH13033,S6OH00163   5051.0      400050   \n",
       "Cantwell        N00007836    S275  S8WA00194,H2WA01054  26137.0      300018   \n",
       "Cardin          N00001955    S308  H6MD03177,S6MD03177   4004.0      400064   \n",
       "Carper          N00012508    S277            S8DE00079    663.0      300019   \n",
       "Casey           N00027503    S309            S6PA00217  47036.0      412246   \n",
       "\n",
       "          votesmart_id  ballotpedia_id washington_post_id icpsr_id  \\\n",
       "last_name                                                            \n",
       "Brown          27018.0   Sherrod Brown                NaN  29389.0   \n",
       "Cantwell       27122.0  Maria Cantwell                NaN  39310.0   \n",
       "Cardin         26888.0      Ben Cardin                NaN  15408.0   \n",
       "Carper         22421.0      Tom Carper                NaN  15015.0   \n",
       "Casey           2541.0  Bob Casey, Jr.                NaN  40703.0   \n",
       "\n",
       "             wikipedia_id  \n",
       "last_name                  \n",
       "Brown       Sherrod Brown  \n",
       "Cantwell   Maria Cantwell  \n",
       "Cardin         Ben Cardin  \n",
       "Carper         Tom Carper  \n",
       "Casey       Bob Casey Jr.  \n",
       "\n",
       "[5 rows x 34 columns]"
      ]
     },
     "execution_count": 59,
     "metadata": {},
     "output_type": "execute_result"
    }
   ],
   "source": [
    "legislators.head()"
   ]
  },
  {
   "cell_type": "code",
   "execution_count": 70,
   "metadata": {},
   "outputs": [
    {
     "data": {
      "text/html": [
       "<div>\n",
       "<style scoped>\n",
       "    .dataframe tbody tr th:only-of-type {\n",
       "        vertical-align: middle;\n",
       "    }\n",
       "\n",
       "    .dataframe tbody tr th {\n",
       "        vertical-align: top;\n",
       "    }\n",
       "\n",
       "    .dataframe thead th {\n",
       "        text-align: right;\n",
       "    }\n",
       "</style>\n",
       "<table border=\"1\" class=\"dataframe\">\n",
       "  <thead>\n",
       "    <tr style=\"text-align: right;\">\n",
       "      <th></th>\n",
       "      <th>last_name</th>\n",
       "      <th>first_name</th>\n",
       "      <th>middle_name</th>\n",
       "      <th>suffix</th>\n",
       "      <th>nickname</th>\n",
       "      <th>full_name</th>\n",
       "      <th>birthday</th>\n",
       "      <th>gender</th>\n",
       "      <th>type</th>\n",
       "      <th>state</th>\n",
       "      <th>...</th>\n",
       "      <th>opensecrets_id</th>\n",
       "      <th>lis_id</th>\n",
       "      <th>fec_ids</th>\n",
       "      <th>cspan_id</th>\n",
       "      <th>govtrack_id</th>\n",
       "      <th>votesmart_id</th>\n",
       "      <th>ballotpedia_id</th>\n",
       "      <th>washington_post_id</th>\n",
       "      <th>icpsr_id</th>\n",
       "      <th>wikipedia_id</th>\n",
       "    </tr>\n",
       "  </thead>\n",
       "  <tbody>\n",
       "    <tr>\n",
       "      <th>0</th>\n",
       "      <td>Brown</td>\n",
       "      <td>Sherrod</td>\n",
       "      <td>NaN</td>\n",
       "      <td>NaN</td>\n",
       "      <td>NaN</td>\n",
       "      <td>Sherrod Brown</td>\n",
       "      <td>1952-11-09</td>\n",
       "      <td>M</td>\n",
       "      <td>sen</td>\n",
       "      <td>OH</td>\n",
       "      <td>...</td>\n",
       "      <td>N00003535</td>\n",
       "      <td>S307</td>\n",
       "      <td>H2OH13033,S6OH00163</td>\n",
       "      <td>5051.0</td>\n",
       "      <td>400050</td>\n",
       "      <td>27018.0</td>\n",
       "      <td>Sherrod Brown</td>\n",
       "      <td>NaN</td>\n",
       "      <td>29389.0</td>\n",
       "      <td>Sherrod Brown</td>\n",
       "    </tr>\n",
       "    <tr>\n",
       "      <th>1</th>\n",
       "      <td>Cantwell</td>\n",
       "      <td>Maria</td>\n",
       "      <td>NaN</td>\n",
       "      <td>NaN</td>\n",
       "      <td>NaN</td>\n",
       "      <td>Maria Cantwell</td>\n",
       "      <td>1958-10-13</td>\n",
       "      <td>F</td>\n",
       "      <td>sen</td>\n",
       "      <td>WA</td>\n",
       "      <td>...</td>\n",
       "      <td>N00007836</td>\n",
       "      <td>S275</td>\n",
       "      <td>S8WA00194,H2WA01054</td>\n",
       "      <td>26137.0</td>\n",
       "      <td>300018</td>\n",
       "      <td>27122.0</td>\n",
       "      <td>Maria Cantwell</td>\n",
       "      <td>NaN</td>\n",
       "      <td>39310.0</td>\n",
       "      <td>Maria Cantwell</td>\n",
       "    </tr>\n",
       "    <tr>\n",
       "      <th>2</th>\n",
       "      <td>Cardin</td>\n",
       "      <td>Benjamin</td>\n",
       "      <td>L.</td>\n",
       "      <td>NaN</td>\n",
       "      <td>NaN</td>\n",
       "      <td>Benjamin L. Cardin</td>\n",
       "      <td>1943-10-05</td>\n",
       "      <td>M</td>\n",
       "      <td>sen</td>\n",
       "      <td>MD</td>\n",
       "      <td>...</td>\n",
       "      <td>N00001955</td>\n",
       "      <td>S308</td>\n",
       "      <td>H6MD03177,S6MD03177</td>\n",
       "      <td>4004.0</td>\n",
       "      <td>400064</td>\n",
       "      <td>26888.0</td>\n",
       "      <td>Ben Cardin</td>\n",
       "      <td>NaN</td>\n",
       "      <td>15408.0</td>\n",
       "      <td>Ben Cardin</td>\n",
       "    </tr>\n",
       "    <tr>\n",
       "      <th>3</th>\n",
       "      <td>Carper</td>\n",
       "      <td>Thomas</td>\n",
       "      <td>Richard</td>\n",
       "      <td>NaN</td>\n",
       "      <td>NaN</td>\n",
       "      <td>Thomas R. Carper</td>\n",
       "      <td>1947-01-23</td>\n",
       "      <td>M</td>\n",
       "      <td>sen</td>\n",
       "      <td>DE</td>\n",
       "      <td>...</td>\n",
       "      <td>N00012508</td>\n",
       "      <td>S277</td>\n",
       "      <td>S8DE00079</td>\n",
       "      <td>663.0</td>\n",
       "      <td>300019</td>\n",
       "      <td>22421.0</td>\n",
       "      <td>Tom Carper</td>\n",
       "      <td>NaN</td>\n",
       "      <td>15015.0</td>\n",
       "      <td>Tom Carper</td>\n",
       "    </tr>\n",
       "    <tr>\n",
       "      <th>4</th>\n",
       "      <td>Casey</td>\n",
       "      <td>Robert</td>\n",
       "      <td>P.</td>\n",
       "      <td>Jr.</td>\n",
       "      <td>Bob</td>\n",
       "      <td>Robert P. Casey, Jr.</td>\n",
       "      <td>1960-04-13</td>\n",
       "      <td>M</td>\n",
       "      <td>sen</td>\n",
       "      <td>PA</td>\n",
       "      <td>...</td>\n",
       "      <td>N00027503</td>\n",
       "      <td>S309</td>\n",
       "      <td>S6PA00217</td>\n",
       "      <td>47036.0</td>\n",
       "      <td>412246</td>\n",
       "      <td>2541.0</td>\n",
       "      <td>Bob Casey, Jr.</td>\n",
       "      <td>NaN</td>\n",
       "      <td>40703.0</td>\n",
       "      <td>Bob Casey Jr.</td>\n",
       "    </tr>\n",
       "    <tr>\n",
       "      <th>5</th>\n",
       "      <td>Feinstein</td>\n",
       "      <td>Dianne</td>\n",
       "      <td>NaN</td>\n",
       "      <td>NaN</td>\n",
       "      <td>NaN</td>\n",
       "      <td>Dianne Feinstein</td>\n",
       "      <td>1933-06-22</td>\n",
       "      <td>F</td>\n",
       "      <td>sen</td>\n",
       "      <td>CA</td>\n",
       "      <td>...</td>\n",
       "      <td>N00007364</td>\n",
       "      <td>S221</td>\n",
       "      <td>S0CA00199</td>\n",
       "      <td>13061.0</td>\n",
       "      <td>300043</td>\n",
       "      <td>53273.0</td>\n",
       "      <td>Dianne Feinstein</td>\n",
       "      <td>NaN</td>\n",
       "      <td>49300.0</td>\n",
       "      <td>Dianne Feinstein</td>\n",
       "    </tr>\n",
       "    <tr>\n",
       "      <th>6</th>\n",
       "      <td>Klobuchar</td>\n",
       "      <td>Amy</td>\n",
       "      <td>Jean</td>\n",
       "      <td>NaN</td>\n",
       "      <td>NaN</td>\n",
       "      <td>Amy Klobuchar</td>\n",
       "      <td>1960-05-25</td>\n",
       "      <td>F</td>\n",
       "      <td>sen</td>\n",
       "      <td>MN</td>\n",
       "      <td>...</td>\n",
       "      <td>N00027500</td>\n",
       "      <td>S311</td>\n",
       "      <td>S6MN00267</td>\n",
       "      <td>83701.0</td>\n",
       "      <td>412242</td>\n",
       "      <td>65092.0</td>\n",
       "      <td>Amy Klobuchar</td>\n",
       "      <td>NaN</td>\n",
       "      <td>40700.0</td>\n",
       "      <td>Amy Klobuchar</td>\n",
       "    </tr>\n",
       "    <tr>\n",
       "      <th>7</th>\n",
       "      <td>Menendez</td>\n",
       "      <td>Robert</td>\n",
       "      <td>NaN</td>\n",
       "      <td>NaN</td>\n",
       "      <td>Bob</td>\n",
       "      <td>Robert Menendez</td>\n",
       "      <td>1954-01-01</td>\n",
       "      <td>M</td>\n",
       "      <td>sen</td>\n",
       "      <td>NJ</td>\n",
       "      <td>...</td>\n",
       "      <td>N00000699</td>\n",
       "      <td>S306</td>\n",
       "      <td>H2NJ13075,S6NJ00289</td>\n",
       "      <td>29608.0</td>\n",
       "      <td>400272</td>\n",
       "      <td>26961.0</td>\n",
       "      <td>Bob Menendez</td>\n",
       "      <td>NaN</td>\n",
       "      <td>29373.0</td>\n",
       "      <td>Bob Menendez</td>\n",
       "    </tr>\n",
       "    <tr>\n",
       "      <th>9</th>\n",
       "      <td>Stabenow</td>\n",
       "      <td>Debbie</td>\n",
       "      <td>Ann</td>\n",
       "      <td>NaN</td>\n",
       "      <td>NaN</td>\n",
       "      <td>Debbie Stabenow</td>\n",
       "      <td>1950-04-29</td>\n",
       "      <td>F</td>\n",
       "      <td>sen</td>\n",
       "      <td>MI</td>\n",
       "      <td>...</td>\n",
       "      <td>N00004118</td>\n",
       "      <td>S284</td>\n",
       "      <td>S8MI00281,H6MI08163</td>\n",
       "      <td>45451.0</td>\n",
       "      <td>300093</td>\n",
       "      <td>515.0</td>\n",
       "      <td>Debbie Stabenow</td>\n",
       "      <td>NaN</td>\n",
       "      <td>29732.0</td>\n",
       "      <td>Debbie Stabenow</td>\n",
       "    </tr>\n",
       "    <tr>\n",
       "      <th>10</th>\n",
       "      <td>Tester</td>\n",
       "      <td>Jon</td>\n",
       "      <td>NaN</td>\n",
       "      <td>NaN</td>\n",
       "      <td>NaN</td>\n",
       "      <td>Jon Tester</td>\n",
       "      <td>1956-08-21</td>\n",
       "      <td>M</td>\n",
       "      <td>sen</td>\n",
       "      <td>MT</td>\n",
       "      <td>...</td>\n",
       "      <td>N00027605</td>\n",
       "      <td>S314</td>\n",
       "      <td>S6MT00162</td>\n",
       "      <td>1020176.0</td>\n",
       "      <td>412244</td>\n",
       "      <td>20928.0</td>\n",
       "      <td>Jon Tester</td>\n",
       "      <td>NaN</td>\n",
       "      <td>40702.0</td>\n",
       "      <td>Jon Tester</td>\n",
       "    </tr>\n",
       "    <tr>\n",
       "      <th>11</th>\n",
       "      <td>Whitehouse</td>\n",
       "      <td>Sheldon</td>\n",
       "      <td>NaN</td>\n",
       "      <td>NaN</td>\n",
       "      <td>NaN</td>\n",
       "      <td>Sheldon Whitehouse</td>\n",
       "      <td>1955-10-20</td>\n",
       "      <td>M</td>\n",
       "      <td>sen</td>\n",
       "      <td>RI</td>\n",
       "      <td>...</td>\n",
       "      <td>N00027533</td>\n",
       "      <td>S316</td>\n",
       "      <td>S6RI00221</td>\n",
       "      <td>92235.0</td>\n",
       "      <td>412247</td>\n",
       "      <td>2572.0</td>\n",
       "      <td>Sheldon Whitehouse</td>\n",
       "      <td>NaN</td>\n",
       "      <td>40704.0</td>\n",
       "      <td>Sheldon Whitehouse</td>\n",
       "    </tr>\n",
       "    <tr>\n",
       "      <th>16</th>\n",
       "      <td>Durbin</td>\n",
       "      <td>Richard</td>\n",
       "      <td>J.</td>\n",
       "      <td>NaN</td>\n",
       "      <td>NaN</td>\n",
       "      <td>Richard J. Durbin</td>\n",
       "      <td>1944-11-21</td>\n",
       "      <td>M</td>\n",
       "      <td>sen</td>\n",
       "      <td>IL</td>\n",
       "      <td>...</td>\n",
       "      <td>N00004981</td>\n",
       "      <td>S253</td>\n",
       "      <td>S6IL00151,H2IL20026</td>\n",
       "      <td>6741.0</td>\n",
       "      <td>300038</td>\n",
       "      <td>26847.0</td>\n",
       "      <td>Dick Durbin</td>\n",
       "      <td>NaN</td>\n",
       "      <td>15021.0</td>\n",
       "      <td>Dick Durbin</td>\n",
       "    </tr>\n",
       "    <tr>\n",
       "      <th>20</th>\n",
       "      <td>Merkley</td>\n",
       "      <td>Jeff</td>\n",
       "      <td>NaN</td>\n",
       "      <td>NaN</td>\n",
       "      <td>NaN</td>\n",
       "      <td>Jeff Merkley</td>\n",
       "      <td>1956-10-24</td>\n",
       "      <td>M</td>\n",
       "      <td>sen</td>\n",
       "      <td>OR</td>\n",
       "      <td>...</td>\n",
       "      <td>N00029303</td>\n",
       "      <td>S322</td>\n",
       "      <td>S8OR00207</td>\n",
       "      <td>1029842.0</td>\n",
       "      <td>412325</td>\n",
       "      <td>23644.0</td>\n",
       "      <td>Jeff Merkley</td>\n",
       "      <td>NaN</td>\n",
       "      <td>40908.0</td>\n",
       "      <td>Jeff Merkley</td>\n",
       "    </tr>\n",
       "    <tr>\n",
       "      <th>21</th>\n",
       "      <td>Reed</td>\n",
       "      <td>John</td>\n",
       "      <td>F.</td>\n",
       "      <td>NaN</td>\n",
       "      <td>Jack</td>\n",
       "      <td>Jack Reed</td>\n",
       "      <td>1949-11-12</td>\n",
       "      <td>M</td>\n",
       "      <td>sen</td>\n",
       "      <td>RI</td>\n",
       "      <td>...</td>\n",
       "      <td>N00000362</td>\n",
       "      <td>S259</td>\n",
       "      <td>S6RI00163,H0RI02071</td>\n",
       "      <td>24239.0</td>\n",
       "      <td>300081</td>\n",
       "      <td>27060.0</td>\n",
       "      <td>Jack Reed</td>\n",
       "      <td>NaN</td>\n",
       "      <td>29142.0</td>\n",
       "      <td>Jack Reed (Rhode Island politician)</td>\n",
       "    </tr>\n",
       "    <tr>\n",
       "      <th>23</th>\n",
       "      <td>Shaheen</td>\n",
       "      <td>Jeanne</td>\n",
       "      <td>NaN</td>\n",
       "      <td>NaN</td>\n",
       "      <td>NaN</td>\n",
       "      <td>Jeanne Shaheen</td>\n",
       "      <td>1947-01-28</td>\n",
       "      <td>F</td>\n",
       "      <td>sen</td>\n",
       "      <td>NH</td>\n",
       "      <td>...</td>\n",
       "      <td>N00024790</td>\n",
       "      <td>S324</td>\n",
       "      <td>S0NH00219</td>\n",
       "      <td>22850.0</td>\n",
       "      <td>412323</td>\n",
       "      <td>1663.0</td>\n",
       "      <td>Jeanne Shaheen</td>\n",
       "      <td>NaN</td>\n",
       "      <td>40906.0</td>\n",
       "      <td>Jeanne Shaheen</td>\n",
       "    </tr>\n",
       "  </tbody>\n",
       "</table>\n",
       "<p>15 rows × 34 columns</p>\n",
       "</div>"
      ],
      "text/plain": [
       "     last_name first_name middle_name suffix nickname             full_name  \\\n",
       "0        Brown    Sherrod         NaN    NaN      NaN         Sherrod Brown   \n",
       "1     Cantwell      Maria         NaN    NaN      NaN        Maria Cantwell   \n",
       "2       Cardin   Benjamin          L.    NaN      NaN    Benjamin L. Cardin   \n",
       "3       Carper     Thomas     Richard    NaN      NaN      Thomas R. Carper   \n",
       "4        Casey     Robert          P.    Jr.      Bob  Robert P. Casey, Jr.   \n",
       "5    Feinstein     Dianne         NaN    NaN      NaN      Dianne Feinstein   \n",
       "6    Klobuchar        Amy        Jean    NaN      NaN         Amy Klobuchar   \n",
       "7     Menendez     Robert         NaN    NaN      Bob       Robert Menendez   \n",
       "9     Stabenow     Debbie         Ann    NaN      NaN       Debbie Stabenow   \n",
       "10      Tester        Jon         NaN    NaN      NaN            Jon Tester   \n",
       "11  Whitehouse    Sheldon         NaN    NaN      NaN    Sheldon Whitehouse   \n",
       "16      Durbin    Richard          J.    NaN      NaN     Richard J. Durbin   \n",
       "20     Merkley       Jeff         NaN    NaN      NaN          Jeff Merkley   \n",
       "21        Reed       John          F.    NaN     Jack             Jack Reed   \n",
       "23     Shaheen     Jeanne         NaN    NaN      NaN        Jeanne Shaheen   \n",
       "\n",
       "      birthday gender type state                 ...                   \\\n",
       "0   1952-11-09      M  sen    OH                 ...                    \n",
       "1   1958-10-13      F  sen    WA                 ...                    \n",
       "2   1943-10-05      M  sen    MD                 ...                    \n",
       "3   1947-01-23      M  sen    DE                 ...                    \n",
       "4   1960-04-13      M  sen    PA                 ...                    \n",
       "5   1933-06-22      F  sen    CA                 ...                    \n",
       "6   1960-05-25      F  sen    MN                 ...                    \n",
       "7   1954-01-01      M  sen    NJ                 ...                    \n",
       "9   1950-04-29      F  sen    MI                 ...                    \n",
       "10  1956-08-21      M  sen    MT                 ...                    \n",
       "11  1955-10-20      M  sen    RI                 ...                    \n",
       "16  1944-11-21      M  sen    IL                 ...                    \n",
       "20  1956-10-24      M  sen    OR                 ...                    \n",
       "21  1949-11-12      M  sen    RI                 ...                    \n",
       "23  1947-01-28      F  sen    NH                 ...                    \n",
       "\n",
       "    opensecrets_id  lis_id              fec_ids   cspan_id govtrack_id  \\\n",
       "0        N00003535    S307  H2OH13033,S6OH00163     5051.0      400050   \n",
       "1        N00007836    S275  S8WA00194,H2WA01054    26137.0      300018   \n",
       "2        N00001955    S308  H6MD03177,S6MD03177     4004.0      400064   \n",
       "3        N00012508    S277            S8DE00079      663.0      300019   \n",
       "4        N00027503    S309            S6PA00217    47036.0      412246   \n",
       "5        N00007364    S221            S0CA00199    13061.0      300043   \n",
       "6        N00027500    S311            S6MN00267    83701.0      412242   \n",
       "7        N00000699    S306  H2NJ13075,S6NJ00289    29608.0      400272   \n",
       "9        N00004118    S284  S8MI00281,H6MI08163    45451.0      300093   \n",
       "10       N00027605    S314            S6MT00162  1020176.0      412244   \n",
       "11       N00027533    S316            S6RI00221    92235.0      412247   \n",
       "16       N00004981    S253  S6IL00151,H2IL20026     6741.0      300038   \n",
       "20       N00029303    S322            S8OR00207  1029842.0      412325   \n",
       "21       N00000362    S259  S6RI00163,H0RI02071    24239.0      300081   \n",
       "23       N00024790    S324            S0NH00219    22850.0      412323   \n",
       "\n",
       "   votesmart_id      ballotpedia_id washington_post_id icpsr_id  \\\n",
       "0       27018.0       Sherrod Brown                NaN  29389.0   \n",
       "1       27122.0      Maria Cantwell                NaN  39310.0   \n",
       "2       26888.0          Ben Cardin                NaN  15408.0   \n",
       "3       22421.0          Tom Carper                NaN  15015.0   \n",
       "4        2541.0      Bob Casey, Jr.                NaN  40703.0   \n",
       "5       53273.0    Dianne Feinstein                NaN  49300.0   \n",
       "6       65092.0       Amy Klobuchar                NaN  40700.0   \n",
       "7       26961.0        Bob Menendez                NaN  29373.0   \n",
       "9         515.0     Debbie Stabenow                NaN  29732.0   \n",
       "10      20928.0          Jon Tester                NaN  40702.0   \n",
       "11       2572.0  Sheldon Whitehouse                NaN  40704.0   \n",
       "16      26847.0         Dick Durbin                NaN  15021.0   \n",
       "20      23644.0        Jeff Merkley                NaN  40908.0   \n",
       "21      27060.0           Jack Reed                NaN  29142.0   \n",
       "23       1663.0      Jeanne Shaheen                NaN  40906.0   \n",
       "\n",
       "                           wikipedia_id  \n",
       "0                         Sherrod Brown  \n",
       "1                        Maria Cantwell  \n",
       "2                            Ben Cardin  \n",
       "3                            Tom Carper  \n",
       "4                         Bob Casey Jr.  \n",
       "5                      Dianne Feinstein  \n",
       "6                         Amy Klobuchar  \n",
       "7                          Bob Menendez  \n",
       "9                       Debbie Stabenow  \n",
       "10                           Jon Tester  \n",
       "11                   Sheldon Whitehouse  \n",
       "16                          Dick Durbin  \n",
       "20                         Jeff Merkley  \n",
       "21  Jack Reed (Rhode Island politician)  \n",
       "23                       Jeanne Shaheen  \n",
       "\n",
       "[15 rows x 34 columns]"
      ]
     },
     "execution_count": 70,
     "metadata": {},
     "output_type": "execute_result"
    }
   ],
   "source": [
    "criteria1 = legislators[legislators['type'] == 'sen']\n",
    "#criteria1\n",
    "#criteria['type'].unique()\n",
    "criteria2 = legislators[legislators['party'] == 'Democrat']\n",
    "#criteria2\n",
    "legislators[(legislators['type'] == 'sen') & (legislators['party'] == 'Democrat')].head(15)\n",
    "#legislators[(legislators['type'] == 'sen') & (legislators['party'] == 'Democrat')].nunique()"
   ]
  },
  {
   "cell_type": "markdown",
   "metadata": {},
   "source": [
    "## Exercise 8: Dates\n",
    "<span style=\"float:right; margin-left:10px; clear:both;\">![Task](../media/new_knowledge.png)</span>\n",
    "Let's learn something not covered in the Pandas 1 lesson regarding dates.  We have the birthdates for each legislator, but they are in a String format.  Let's convert it to a datetime object. We can do this using the `pd.to_datetime` function.  Take a look at the online documentation to see how to use this function. Convert the `legislators['birthday']` column to a `datetime` object. Confirm that the column is now a datetime object."
   ]
  },
  {
   "cell_type": "code",
   "execution_count": 77,
   "metadata": {},
   "outputs": [
    {
     "data": {
      "text/plain": [
       "dtype('O')"
      ]
     },
     "execution_count": 77,
     "metadata": {},
     "output_type": "execute_result"
    }
   ],
   "source": [
    "# 'O' = Object\n",
    "legislators['birthday'].dtype"
   ]
  },
  {
   "cell_type": "code",
   "execution_count": 83,
   "metadata": {},
   "outputs": [
    {
     "data": {
      "text/plain": [
       "0   1952-11-09\n",
       "1   1958-10-13\n",
       "2   1943-10-05\n",
       "3   1947-01-23\n",
       "4   1960-04-13\n",
       "Name: birthday, dtype: datetime64[ns]"
      ]
     },
     "execution_count": 83,
     "metadata": {},
     "output_type": "execute_result"
    }
   ],
   "source": [
    "birthdays = pd.to_datetime(legislators['birthday'])\n",
    "birthdays.head()"
   ]
  },
  {
   "cell_type": "markdown",
   "metadata": {},
   "source": [
    "Now that we have the birthdays in a `datetime` object, how can we calculate their age?  Hint: we can use the `pd.Timestamp.now()` function to get a datetime object for this moment. Let's subtract the current time from their birthdays.  Print the top 5 results."
   ]
  },
  {
   "cell_type": "code",
   "execution_count": 85,
   "metadata": {},
   "outputs": [
    {
     "data": {
      "text/plain": [
       "0     68 days 08:42:44.212875\n",
       "1     62 days 10:25:18.733423\n",
       "2     77 days 11:12:39.281368\n",
       "3     74 days 03:54:44.212875\n",
       "4     60 days 22:23:20.377259\n",
       "5     87 days 18:14:47.500546\n",
       "6     60 days 19:37:38.459450\n",
       "7     67 days 05:13:38.459450\n",
       "8     79 days 12:59:10.514245\n",
       "9     70 days 21:32:03.116985\n",
       "10    64 days 13:54:24.486848\n",
       "11    65 days 10:01:38.459450\n",
       "12    68 days 16:00:39.281368\n",
       "13    69 days 17:07:43.390957\n",
       "14    68 days 06:52:16.267670\n",
       "15    69 days 03:11:20.377259\n",
       "16    76 days 08:03:17.089587\n",
       "17    65 days 16:47:59.829313\n",
       "18    86 days 08:30:54.075889\n",
       "19    79 days 02:08:12.979998\n",
       "20    64 days 09:41:54.897807\n",
       "21    71 days 08:34:50.788218\n",
       "22    77 days 21:24:09.692327\n",
       "23    74 days 03:35:00.651231\n",
       "24    66 days 06:20:42.569039\n",
       "25    54 days 06:32:32.706026\n",
       "26    57 days 12:35:30.240272\n",
       "27    73 days 13:54:24.486848\n",
       "28    55 days 15:44:52.432053\n",
       "29    59 days 02:23:59.829313\n",
       "                ...          \n",
       "508   60 days 16:47:59.829313\n",
       "509   57 days 17:55:03.938902\n",
       "510   64 days 07:04:06.404656\n",
       "511   25 days 14:37:48.322464\n",
       "512   57 days 00:09:51.610135\n",
       "513   61 days 17:15:36.815615\n",
       "514   36 days 11:00:49.144382\n",
       "515   40 days 08:07:13.801916\n",
       "516   33 days 00:01:58.185478\n",
       "517   44 days 22:54:54.075889\n",
       "518   33 days 19:41:35.171779\n",
       "519   47 days 08:15:07.226574\n",
       "520   69 days 04:34:11.336163\n",
       "521   43 days 06:40:26.130683\n",
       "522   61 days 05:09:41.747122\n",
       "523   53 days 05:53:05.582738\n",
       "524   42 days 05:05:45.034793\n",
       "525   53 days 20:56:32.706026\n",
       "526   52 days 22:39:07.226574\n",
       "527   40 days 10:13:28.596437\n",
       "528   50 days 07:59:20.377259\n",
       "529   40 days 17:27:26.952601\n",
       "530   69 days 15:17:15.445752\n",
       "531   55 days 12:23:40.103286\n",
       "532   58 days 11:32:22.843012\n",
       "533   57 days 08:07:13.801916\n",
       "534   47 days 23:38:17.911505\n",
       "535   34 days 01:40:35.993697\n",
       "536   51 days 15:36:59.007396\n",
       "537   60 days 02:51:36.815615\n",
       "Name: birthday, Length: 538, dtype: timedelta64[ns]"
      ]
     },
     "execution_count": 85,
     "metadata": {},
     "output_type": "execute_result"
    }
   ],
   "source": [
    "birthdays.dt.year\n",
    "(pd.Timestamp.now() - birthdays) / 365"
   ]
  },
  {
   "cell_type": "markdown",
   "metadata": {},
   "source": [
    "Notice that the result of subtracting two `datetime` objects is a `timedelta` object. It contains the difference between two time values. The value we calculated therefore gives us the number of days old.  However, we want the number of years. \n",
    "\n",
    "To get the number of years we can divide the number of days old by the number of days in a year (i.e. 365). However, we need to extract out the days from the `datetime` object. To get this, the Pandas Series object has an accessor for extracting components of `datetime` objects and `timedelta` objects. It's named `dt` and it works for both.  You can learn more about the attributes of this accessor at the [datetime objects page](https://pandas.pydata.org/pandas-docs/stable/reference/series.html#datetime-properties) and the [timedelta objects page](https://pandas.pydata.org/pandas-docs/stable/reference/series.html#timedelta-properties) by clicking.  Take a moment to look over that documentation.\n",
    "\n",
    "How would then extract the days in order to divide by 365 to get the years?  Once you've figurd it out. Do so, convert the years to an integer and add the resulting series back into the legislator dataframe as a new column named `age`.  Hint: use the [astype](https://pandas.pydata.org/pandas-docs/stable/reference/api/pandas.Series.astype.html) function of Pandas to convert the type."
   ]
  },
  {
   "cell_type": "code",
   "execution_count": null,
   "metadata": {},
   "outputs": [],
   "source": []
  },
  {
   "cell_type": "markdown",
   "metadata": {},
   "source": [
    "Next, find the youngest, oldest and average age of all legislators"
   ]
  },
  {
   "cell_type": "code",
   "execution_count": null,
   "metadata": {},
   "outputs": [],
   "source": []
  },
  {
   "cell_type": "markdown",
   "metadata": {},
   "source": [
    "Who are the oldest and youngest legislators?"
   ]
  },
  {
   "cell_type": "code",
   "execution_count": null,
   "metadata": {},
   "outputs": [],
   "source": []
  },
  {
   "cell_type": "markdown",
   "metadata": {},
   "source": [
    "## Exercise 9:  Indexing with loc and iloc\n",
    "Reindex the legislators dataframe using the state, and find all legislators from your home state using the `loc` accessor."
   ]
  },
  {
   "cell_type": "code",
   "execution_count": null,
   "metadata": {},
   "outputs": [],
   "source": []
  },
  {
   "cell_type": "markdown",
   "metadata": {},
   "source": [
    "Use the loc command to find all legislators from South Carolina and North Carolina"
   ]
  },
  {
   "cell_type": "code",
   "execution_count": null,
   "metadata": {},
   "outputs": [],
   "source": []
  },
  {
   "cell_type": "markdown",
   "metadata": {},
   "source": [
    "Use the loc command to retrieve all legislators from California, Oregon and Washington and only get their full name, state, party and age"
   ]
  },
  {
   "cell_type": "code",
   "execution_count": null,
   "metadata": {},
   "outputs": [],
   "source": []
  },
  {
   "cell_type": "markdown",
   "metadata": {},
   "source": [
    "## Exercise 10: Economics Data Example\n",
    "### Task 1: Explore the data\n",
    "Import the data from the [Lectures in Quantiatives Economics](https://github.com/QuantEcon/lecture-source-py) regarding minimum wages in countries round the world in US Dollars.  You can view the data [here](https://github.com/QuantEcon/lecture-source-py/blob/master/source/_static/lecture_specific/pandas_panel/realwage.csv) and you can access the data file here: https://raw.githubusercontent.com/QuantEcon/lecture-source-py/master/source/_static/lecture_specific/pandas_panel/realwage.csv.  Then perform the following\n",
    "\n",
    "Import and print the first 5 lines of data to explore what is there."
   ]
  },
  {
   "cell_type": "code",
   "execution_count": null,
   "metadata": {},
   "outputs": [],
   "source": []
  },
  {
   "cell_type": "code",
   "execution_count": null,
   "metadata": {},
   "outputs": [],
   "source": []
  },
  {
   "cell_type": "markdown",
   "metadata": {},
   "source": [
    "Find the shape of the data."
   ]
  },
  {
   "cell_type": "code",
   "execution_count": null,
   "metadata": {},
   "outputs": [],
   "source": []
  },
  {
   "cell_type": "markdown",
   "metadata": {},
   "source": [
    "List the column names."
   ]
  },
  {
   "cell_type": "code",
   "execution_count": null,
   "metadata": {},
   "outputs": [],
   "source": []
  },
  {
   "cell_type": "markdown",
   "metadata": {},
   "source": [
    "Identify the data types. Do they match what you would expect?"
   ]
  },
  {
   "cell_type": "code",
   "execution_count": null,
   "metadata": {},
   "outputs": [],
   "source": []
  },
  {
   "cell_type": "markdown",
   "metadata": {},
   "source": [
    "Identify columns with missing values. "
   ]
  },
  {
   "cell_type": "code",
   "execution_count": null,
   "metadata": {},
   "outputs": [],
   "source": []
  },
  {
   "cell_type": "markdown",
   "metadata": {},
   "source": [
    "Identify if there are duplicated entires."
   ]
  },
  {
   "cell_type": "code",
   "execution_count": null,
   "metadata": {},
   "outputs": [],
   "source": []
  },
  {
   "cell_type": "markdown",
   "metadata": {},
   "source": [
    "How many unique values per row are there.  Do these look reasonable for the data type and what you know about what is stored in the column?"
   ]
  },
  {
   "cell_type": "code",
   "execution_count": null,
   "metadata": {},
   "outputs": [],
   "source": []
  },
  {
   "cell_type": "markdown",
   "metadata": {},
   "source": [
    "### Task 2: Explore More\n",
    "Retrieve descriptive statistics for the data."
   ]
  },
  {
   "cell_type": "code",
   "execution_count": null,
   "metadata": {},
   "outputs": [],
   "source": []
  },
  {
   "cell_type": "markdown",
   "metadata": {},
   "source": [
    "Identify all of the countries listed in the data."
   ]
  },
  {
   "cell_type": "code",
   "execution_count": null,
   "metadata": {},
   "outputs": [],
   "source": []
  },
  {
   "cell_type": "markdown",
   "metadata": {},
   "source": [
    "Convert the time column to a datetime object."
   ]
  },
  {
   "cell_type": "code",
   "execution_count": null,
   "metadata": {},
   "outputs": [],
   "source": []
  },
  {
   "cell_type": "markdown",
   "metadata": {},
   "source": [
    "Identify the time points that were used for data collection. How many years of data collection were there? What time of year were the data collected?"
   ]
  },
  {
   "cell_type": "code",
   "execution_count": null,
   "metadata": {},
   "outputs": [],
   "source": []
  },
  {
   "cell_type": "markdown",
   "metadata": {},
   "source": [
    "Because we only have one data point collected per year per country, simplify this by adding a new column with just the year.  Print the first 5 rows to confirm the column was added."
   ]
  },
  {
   "cell_type": "code",
   "execution_count": null,
   "metadata": {},
   "outputs": [],
   "source": []
  },
  {
   "cell_type": "markdown",
   "metadata": {},
   "source": [
    "There are two pay periods.  Retrieve them in a list of just the two strings"
   ]
  },
  {
   "cell_type": "code",
   "execution_count": null,
   "metadata": {},
   "outputs": [],
   "source": []
  },
  {
   "cell_type": "markdown",
   "metadata": {},
   "source": [
    "### Task 3: Clean the data\n",
    "We have no duplicates in this data so we do not need to consider removing those, but we do have missing values in the `value` column. Lets remove those.  Check the dimensions afterwards to make sure they rows with missing values are gone."
   ]
  },
  {
   "cell_type": "code",
   "execution_count": null,
   "metadata": {},
   "outputs": [],
   "source": []
  },
  {
   "cell_type": "markdown",
   "metadata": {},
   "source": [
    "### Task 4:  Indexing\n",
    "Use boolean indexing to retrieve the rows of annual salary in United States"
   ]
  },
  {
   "cell_type": "code",
   "execution_count": null,
   "metadata": {},
   "outputs": [],
   "source": []
  },
  {
   "cell_type": "markdown",
   "metadata": {},
   "source": [
    "Do we have enough data to calculate descriptive statistics for annual salary in the United States in 2016?"
   ]
  },
  {
   "cell_type": "code",
   "execution_count": null,
   "metadata": {},
   "outputs": [],
   "source": []
  },
  {
   "cell_type": "markdown",
   "metadata": {},
   "source": [
    "Use loc to calculate descriptive statistics for the hourly salary in the United States and then again separately for Ireland. Hint: you will have to set row indexes."
   ]
  },
  {
   "cell_type": "code",
   "execution_count": null,
   "metadata": {},
   "outputs": [],
   "source": []
  },
  {
   "cell_type": "markdown",
   "metadata": {},
   "source": [
    "Now do the same for Annual salary"
   ]
  },
  {
   "cell_type": "code",
   "execution_count": null,
   "metadata": {},
   "outputs": [],
   "source": []
  }
 ],
 "metadata": {
  "kernelspec": {
   "display_name": "Python 3",
   "language": "python",
   "name": "python3"
  },
  "language_info": {
   "codemirror_mode": {
    "name": "ipython",
    "version": 3
   },
   "file_extension": ".py",
   "mimetype": "text/x-python",
   "name": "python",
   "nbconvert_exporter": "python",
   "pygments_lexer": "ipython3",
   "version": "3.7.1"
  }
 },
 "nbformat": 4,
 "nbformat_minor": 4
}
